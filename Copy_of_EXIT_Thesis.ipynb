{
  "nbformat": 4,
  "nbformat_minor": 0,
  "metadata": {
    "accelerator": "TPU",
    "colab": {
      "name": "Copy of EXIT Thesis.ipynb",
      "provenance": [],
      "collapsed_sections": [],
      "machine_shape": "hm"
    },
    "kernelspec": {
      "display_name": "Python 3",
      "name": "python3"
    }
  },
  "cells": [
    {
      "cell_type": "code",
      "metadata": {
        "colab": {
          "base_uri": "https://localhost:8080/",
          "height": 36
        },
        "id": "vK_LJMRy7X6n",
        "outputId": "15518c96-576f-4878-f840-c79c7838f4b1"
      },
      "source": [
        "#import modules here\n",
        "import pandas as pd\n",
        "import numpy as np\n",
        "import gdown\n",
        "import keras\n",
        "from keras.models import Sequential\n",
        "from keras.layers import Dense, Dropout, LSTM\n",
        "import matplotlib.pyplot as plt\n",
        "import tensorflow as tf\n",
        "from tensorflow.keras import datasets, layers, models\n",
        "from sklearn.model_selection import KFold\n",
        "from sklearn.model_selection import StratifiedKFold\n",
        "from sklearn.utils import shuffle\n",
        "from tensorflow import keras\n",
        "from sklearn.model_selection import train_test_split"
      ],
      "execution_count": null,
      "outputs": [
        {
          "output_type": "execute_result",
          "data": {
            "application/vnd.google.colaboratory.intrinsic+json": {
              "type": "string"
            },
            "text/plain": [
              "'!pip install scikit-learn==0.23.1\\n!pip install imbalanced-learn==0.7.0'"
            ]
          },
          "metadata": {
            "tags": []
          },
          "execution_count": 34
        }
      ]
    },
    {
      "cell_type": "code",
      "metadata": {
        "id": "bwq0Q-skKyqv"
      },
      "source": [
        "#Time Aware layer for T_LSTM models:\n",
        "'''\n",
        "TLSTM_layer is obtained from the following Github Repository:\n",
        "\n",
        "Nguyen, A., Chatterjee, S., Weinzierl, S., Schwinn, L., Matzner, M., & Eskofier, B.(2020).\n",
        "Time matters: Time-aware lstms for predictive business processmonitoring; TLSTM_layer [Source Code]. Retrievable at:\n",
        "https://github.com/annguy/time-aware-pbpm/blob/master/src/Models/TLSTM_layer.py. [Accessed on May 21st, 2021]\n",
        "\n",
        "The MIT License (MIT)\n",
        "Copyright (c) 2020, An Nguyen, Srijeet Chatterjee\n",
        "\n",
        "Permission is hereby granted, free of charge, to any person obtaining a copy of \n",
        "this software and associated documentation files (the \"Software\"),\n",
        "to deal in the Software without restriction, including without limitation the rights to use,\n",
        "copy, modify, merge, publish, distribute, sublicense, and/or sell copies of the Software,\n",
        "and to permit persons to whom the Software is furnished to do so, subject to the following conditions:\n",
        "\n",
        "The above copyright notice and this permission notice shall be included in all copies\n",
        "or substantial portions of the Software.\n",
        "THE SOFTWARE IS PROVIDED \"AS IS\", WITHOUT WARRANTY OF ANY KIND, EXPRESS OR IMPLIED, INCLUDING BUT NOT LIMITED\n",
        "TO THE WARRANTIES OF MERCHANTABILITY, FITNESS FOR A PARTICULAR PURPOSE AND NONINFRINGEMENT.\n",
        "IN NO EVENT SHALL THE AUTHORS OR COPYRIGHT HOLDERS BE LIABLE FOR ANY CLAIM, DAMAGES OR OTHER LIABILITY,\n",
        "WHETHER IN AN ACTION OF CONTRACT, TORT OR OTHERWISE, ARISING FROM, OUT OF OR IN CONNECTION WITH THE SOFTWARE\n",
        "OR THE USE OR OTHER DEALINGS IN THE SOFTWARE.\n",
        "\n",
        "Link for detailed installation instructions of conda environment: https://github.com/annguy/time-aware-pbpm\n",
        "'''\n",
        "import tensorflow as tf\n",
        "from tensorflow import keras\n",
        "import numpy as np\n",
        "\n",
        "\n",
        "class TLSTM_layer(keras.layers.Layer):\n",
        "    \"\"\"\n",
        "    Time-ware LSTM inherits from tf.keras.layers.Layer. Implmentation is based on [1]\n",
        "    [1] Baytas, Inci M., Cao Xiao, Xi Zhang, Fei Wang, Anil K. Jain, and Jiayu Zhou. “Patient Subtyping\n",
        "    via Time-Aware LSTM Networks.”  KDD ’17\n",
        "    Attributes\n",
        "    ----------\n",
        "    input_dim : int\n",
        "        the dimension of the input layer.\n",
        "    hidden_dim : int\n",
        "        the dimension of the hidden layer.\n",
        "    trainable : bool\n",
        "        set the variable to be trainable or not.\n",
        "    Wi, Wf, Wog : tensor\n",
        "        weight matrices corresponding to the input, forget and output gates respectively,\n",
        "        modifying the input connections.\n",
        "    Ui, Uf, Uog : tensor\n",
        "        weight matrices corresponding to the input, forget and output gates respectively,\n",
        "        modifying the hidden connections.\n",
        "    bi, bf, bog : tensor\n",
        "        the bias vectors corresponding to the input, forget and output gates, respectively.\n",
        "    Wc, Uc, bc : tensor\n",
        "        the weight matrices and bias vector to compute the current cell memory.\n",
        "    W_decomp, b_decomp : tensor\n",
        "        subspace decompostion weight matrix and bias vector.\n",
        "    \"\"\"\n",
        "\n",
        "    def __init__(self,\n",
        "                 hidden_dim,\n",
        "                 return_sequence=True,\n",
        "                 kernel_initializer='glorot_uniform',\n",
        "                 bias_initializer='zeros',\n",
        "                 trainable=True,\n",
        "                 supports_masking=True,\n",
        "                 name=None):\n",
        "        \"\"\"Constructor of T-LSTM objects.\n",
        "        Parameters\n",
        "        ----------\n",
        "        hidden_dim : int\n",
        "            dimension of the hidden layer.\n",
        "        return_sequence : bool\n",
        "            weather to return all hidden states. Default: True\n",
        "        kernel_initializer : str\n",
        "            Initializer for the kernel weights matrix, used for the linear transformation of the inputs.\n",
        "             Default: glorot_uniform.\n",
        "         bias_initializer: str\n",
        "             Initializer for the bias vector. Default: zeros.\n",
        "        trainable :bool\n",
        "            set the variables (weight and bias) to be trainable (for training) or not (for testing).\n",
        "        supports_masking : bool\n",
        "            weather layer should supporting masking\n",
        "        name : str\n",
        "            layers name\n",
        "        \"\"\"\n",
        "        super(TLSTM_layer, self).__init__(name=name)\n",
        "        # Signal that the layer is safe for mask propagation\n",
        "        self.supports_masking = supports_masking\n",
        "        # set initializer\n",
        "        self.kernel_initializer = kernel_initializer\n",
        "        self.bias_initializer = bias_initializer\n",
        "        # set dimensions\n",
        "        self.hidden_dim = hidden_dim\n",
        "        self.return_sequence = return_sequence\n",
        "        self.trainable = trainable\n",
        "\n",
        "    def build(self, input_shape):\n",
        "        \n",
        "        self.input_dim = input_shape[-1]\n",
        "        # Set trainable weights\n",
        "        self.Wi = self.add_weight(shape=(self.input_dim, self.hidden_dim),\n",
        "                                  initializer=self.kernel_initializer,\n",
        "                                  trainable=True,\n",
        "                                  name='Input_Hidden_weight')\n",
        "        self.Ui = self.add_weight(shape=(self.hidden_dim, self.hidden_dim),\n",
        "                                  initializer=self.kernel_initializer,\n",
        "                                  trainable=True,\n",
        "                                  name='Input_State_weight')\n",
        "        self.bi = self.add_weight(shape=self.hidden_dim,\n",
        "                                  initializer=self.bias_initializer,\n",
        "                                  trainable=True,\n",
        "                                  name='Input_Hidden_bias')\n",
        "\n",
        "        self.Wf = self.add_weight(shape=(self.input_dim, self.hidden_dim),\n",
        "                                  initializer=self.kernel_initializer,\n",
        "                                  trainable=True,\n",
        "                                  name='Forget_Hidden_weight')\n",
        "        self.Uf = self.add_weight(shape=(self.hidden_dim, self.hidden_dim),\n",
        "                                  initializer=self.kernel_initializer,\n",
        "                                  trainable=True,\n",
        "                                  name='Forget_State_weight')\n",
        "        self.bf = self.add_weight(shape=self.hidden_dim,\n",
        "                                  initializer=self.bias_initializer,\n",
        "                                  trainable=True,\n",
        "                                  name='Forget_Hidden_bias')\n",
        "\n",
        "        self.Wog = self.add_weight(shape=(self.input_dim, self.hidden_dim),\n",
        "                                   initializer=self.kernel_initializer,\n",
        "                                   trainable=True,\n",
        "                                   name='Output_Hidden_weight')\n",
        "        self.Uog = self.add_weight(shape=(self.hidden_dim, self.hidden_dim),\n",
        "                                   initializer=self.kernel_initializer,\n",
        "                                   trainable=True,\n",
        "                                   name='Output_State_weight')\n",
        "        self.bog = self.add_weight(shape=self.hidden_dim,\n",
        "                                   initializer=self.bias_initializer,\n",
        "                                   trainable=True,\n",
        "                                   name='Output_Hidden_bias')\n",
        "\n",
        "        self.Wc = self.add_weight(shape=(self.input_dim, self.hidden_dim),\n",
        "                                  initializer=self.kernel_initializer,\n",
        "                                  trainable=True,\n",
        "                                  name='Cell_Hidden_weight')\n",
        "        self.Uc = self.add_weight(shape=(self.hidden_dim, self.hidden_dim),\n",
        "                                  initializer=self.kernel_initializer,\n",
        "                                  trainable=True,\n",
        "                                  name='Cell_State_weight')\n",
        "        self.bc = self.add_weight(shape=self.hidden_dim,\n",
        "                                  initializer=self.bias_initializer,\n",
        "                                  trainable=True,\n",
        "                                  name='Cell_Hidden_bias')\n",
        "\n",
        "        self.W_decomp = self.add_weight(shape=(self.hidden_dim, self.hidden_dim),\n",
        "                                        initializer=self.kernel_initializer,\n",
        "                                        trainable=True,\n",
        "                                        name='Decomposition_Hidden_weight')\n",
        "        self.b_decomp = self.add_weight(shape=self.hidden_dim,\n",
        "                                        initializer=self.bias_initializer,\n",
        "                                        trainable=True,\n",
        "                                        name='Decomposition_Hidden_bias_enc')\n",
        "\n",
        "    def tlstm_unit(self, prev_hidden_memory, concat_input):\n",
        "        \"\"\"The update equations for the time-aware LSTM.\n",
        "        Parameters\n",
        "        ----------\n",
        "        prev_hidden_memory : list of tensor\n",
        "            a list containing the previous hidden states and previous cell memory (1, 2, batch_size, hidden_dim)\n",
        "        concat_input : tensor\n",
        "            a tensor containing all the input data and the elapsed times (batch_size, input_dim+1)\n",
        "        Returns\n",
        "        -------\n",
        "        tensor\n",
        "            Updated prev_hidden_memory and the cell state concatenated (1, 2, batch_size, hidden_dim)\n",
        "        \"\"\"\n",
        "        prev_hidden_state, prev_cell = tf.unstack(prev_hidden_memory)\n",
        "\n",
        "        batch_size = tf.shape(concat_input)[0]\n",
        "        x = tf.slice(concat_input, [0, 1], [batch_size, self.input_dim])  # (batch_size, features)\n",
        "        t = tf.slice(concat_input, [0, 0], [batch_size, 1])  # (batch_size, 1)\n",
        "\n",
        "        # Dealing with time irregularity\n",
        "\n",
        "        # Map elapse time in days or months\n",
        "        T = self.map_elapse_time(t)\n",
        "\n",
        "        # Decompose the previous cell if there is an elapse time\n",
        "        C_ST = tf.nn.tanh(tf.matmul(prev_cell, self.W_decomp) + self.b_decomp)\n",
        "        C_ST_dis = tf.multiply(T, C_ST)\n",
        "        # if T is 0, then the weight is one\n",
        "        prev_cell = prev_cell - C_ST + C_ST_dis\n",
        "\n",
        "        # Input gate\n",
        "        i = tf.sigmoid(tf.matmul(x, self.Wi) + tf.matmul(prev_hidden_state, self.Ui) + self.bi)\n",
        "\n",
        "        # Forget Gate\n",
        "        f = tf.sigmoid(tf.matmul(x, self.Wf) + tf.matmul(prev_hidden_state, self.Uf) + self.bf)\n",
        "\n",
        "        # Output Gate\n",
        "        o = tf.sigmoid(tf.matmul(x, self.Wog) + tf.matmul(prev_hidden_state, self.Uog) + self.bog)\n",
        "\n",
        "        # Candidate Memory Cell\n",
        "        C = tf.nn.tanh(tf.matmul(x, self.Wc) + tf.matmul(prev_hidden_state, self.Uc) + self.bc)\n",
        "\n",
        "        # Current Memory cell\n",
        "        Ct = f * prev_cell + i * C\n",
        "\n",
        "        # Current Hidden state\n",
        "        current_hidden_state = o * tf.nn.tanh(Ct)\n",
        "\n",
        "        return tf.stack([current_hidden_state, Ct])\n",
        "\n",
        "    def call(self, x, time):\n",
        "        \"\"\" Compute the hidden states for the input sequence.\n",
        "        Parameters\n",
        "        ----------\n",
        "        x : array\n",
        "            the input of shape (batch_size, sequence_length, input_dimension).\n",
        "        time : array\n",
        "            the elapsed time of shape (batch_size, sequence_length).\n",
        "        Returns\n",
        "        -------\n",
        "        tensor\n",
        "            The computed hidden states of shape (batch_size, seq_len, hidden_dim)\n",
        "        \"\"\"\n",
        "        batch_size = tf.shape(x)[0]\n",
        "        scan_input_ = tf.transpose(x, perm=[2, 0, 1])\n",
        "        scan_input = tf.transpose(scan_input_)  # scan_input: (seq_length, batch_size, input_dim)\n",
        "        scan_time = tf.transpose(time)\n",
        "\n",
        "        initial_hidden = tf.zeros([batch_size, self.hidden_dim], tf.float32)\n",
        "        ini_state_cell = tf.stack([initial_hidden, initial_hidden])\n",
        "\n",
        "        # Make scan_time have shape of (seq_length, batch_size, 1)\n",
        "        scan_time = tf.reshape(scan_time, [tf.shape(scan_time)[0], tf.shape(scan_time)[1], 1])\n",
        "        concat_input = tf.concat([scan_time, scan_input], 2)  # concat_input: (seq_length, batch_size, input_dim+1)\n",
        "\n",
        "        # Call TLSTM_Unit recursively for each time step (seq_length, 2, batch_size, hidden_dim)\n",
        "        packed_hidden_states = tf.scan(self.tlstm_unit, concat_input, initializer=ini_state_cell, name='states')\n",
        "\n",
        "        # Extract all the hidden states\n",
        "        all_states = packed_hidden_states[:, 0, :, :]  # (seq_length, batch_size, hidden_dim)\n",
        "        all_states = tf.transpose(all_states, perm=[1, 0, 2])  # (batch_size, seq_len, hidden_dim)\n",
        "\n",
        "        if self.return_sequence:\n",
        "            return all_states  # return all hidden states\n",
        "        else:\n",
        "            return all_states[:, -1, :]  # return last hidden state\n",
        "\n",
        "    def map_elapse_time(self, t):\n",
        "        \"\"\" Given the time intervals, compute the decay terms.\n",
        "        Parameters\n",
        "        ----------\n",
        "        t : tensor\n",
        "            input time intervals.\n",
        "        Returns\n",
        "        -------\n",
        "        tensor\n",
        "            The computed decay terms.\n",
        "        \"\"\"\n",
        "        c1 = tf.constant(1, dtype=tf.float32)\n",
        "        c2 = tf.constant(2.7183, dtype=tf.float32)\n",
        "\n",
        "        T = tf.math.divide(c1, tf.math.log(t + c2), name='Log_elapse_time')\n",
        "        Ones = tf.ones([1, self.hidden_dim], dtype=tf.float32)\n",
        "        T = tf.matmul(T, Ones)\n",
        "\n",
        "        return T\n",
        "\n",
        "\n",
        "    def get_config(self):\n",
        "        config = ({'hidden_dim': self.hidden_dim,\n",
        "                   'supports_masking': self.supports_masking,\n",
        "                   'kernel_initializer': self.kernel_initializer,\n",
        "                   'bias_initializer': self.bias_initializer,\n",
        "                   'return_sequence': self.return_sequence,\n",
        "                   'trainable': self.trainable,\n",
        "                   'name': self.name})\n",
        "\n",
        "        return config\n",
        "\n",
        "\n",
        "if __name__ == \"__main__\":\n",
        "    # %% run on dummy tensors\n",
        "    inp_dim = 2\n",
        "    hid_dim = 5\n",
        "\n",
        "    time_steps = 10\n",
        "    batchSize = 20\n",
        "\n",
        "    x_ = np.ones([batchSize, time_steps, inp_dim])\n",
        "    # leftpad sequences with zeros -> simulate variable length inputs in batch\n",
        "    # first 2 sequences have 2 leading zeros, next two 4 leading zeros, ...\n",
        "    x_[:2, :2, :] = 0\n",
        "    x_[2:4, :4, :] = 0\n",
        "    x_[4:6, :6, :] = 0\n",
        "    x_ = tf.convert_to_tensor(x_, dtype='float32')\n",
        "    dts = np.ones([batchSize, time_steps])\n",
        "    dts[:2, :2] = 0\n",
        "    dts[2:4, :4] = 0\n",
        "    dts[4:6, :6] = 0\n",
        "    dts = tf.convert_to_tensor(dts, dtype='float32')\n",
        "\n",
        "    # initialize TLSTM layer object\n",
        "    TLSTM_layer_ = TLSTM_layer(hid_dim, return_sequence=True)\n",
        "    hidden = TLSTM_layer_(x_, dts)\n",
        "    print(tf.shape(hidden))\n",
        "\n",
        "    TLSTM_layer_ = TLSTM_layer(hid_dim, return_sequence=False)\n",
        "    hidden = TLSTM_layer_(x_, dts)\n",
        "    print(tf.shape(hidden))"
      ],
      "execution_count": null,
      "outputs": []
    },
    {
      "cell_type": "code",
      "metadata": {
        "id": "kcM2CyzmKxlJ"
      },
      "source": [
        "!pip install kora -q\n",
        "from kora import drive\n",
        "drive.link_nbs()\n",
        "import import_ipynb\n",
        "import src\n",
        "'''!pip install scikit-learn==0.23.1\n",
        "!pip install imbalanced-learn==0.7.0'''"
      ],
      "execution_count": null,
      "outputs": []
    },
    {
      "cell_type": "code",
      "metadata": {
        "id": "wmjDtqiYQJeY"
      },
      "source": [
        "#Dataset\n",
        "'''\n",
        "The full dataset can be downloaded following this Github link:\n",
        "\n",
        "Requena, B., Cassani, G., Tagliabue, J., Greco, C., & Lacasa, L. (2020).\n",
        "Shopper intentprediction from clickstream e-commerce data with minimal browsing information.\n",
        "https://github.com/coveooss/shopper-intent-prediction-nature-2020\n",
        "'''\n",
        "\n",
        "df = pd.read_csv('./release_10_23_2020.csv')"
      ],
      "execution_count": null,
      "outputs": []
    },
    {
      "cell_type": "code",
      "metadata": {
        "colab": {
          "base_uri": "https://localhost:8080/"
        },
        "id": "dG2yFyFo6i95",
        "outputId": "b75be433-fc75-49a3-a471-1e18cb36a282"
      },
      "source": [
        " #DOWNLOADING DATASET AND SETTING UP NOTEBOOK\n",
        "\n",
        "!gdown --id 1GU_VafffNuwPvlnJNnMcKlDnSvEhFLEY\n",
        "\n",
        "df = pd.read_csv('./release_10_23_2020.csv')"
      ],
      "execution_count": null,
      "outputs": [
        {
          "output_type": "stream",
          "text": [
            "Downloading...\n",
            "From: https://drive.google.com/uc?id=1GU_VafffNuwPvlnJNnMcKlDnSvEhFLEY\n",
            "To: /content/release_10_23_2020.csv\n",
            "850MB [00:07, 116MB/s]\n"
          ],
          "name": "stdout"
        }
      ]
    },
    {
      "cell_type": "code",
      "metadata": {
        "id": "cJHFZxt3AjPL"
      },
      "source": [
        "## Pre-processing function\n",
        "def preprocess(df):\n",
        "\n",
        "  # rename actions\n",
        "  df['product_action'] = df['product_action'].replace([np.nan,'detail', 'add', 'remove', 'click', 'purchase',],[1,2,3,4,5,7])\n",
        "\n",
        "  # make sequences\n",
        "  df = df.groupby('session_id_hash')[['product_action', 'server_timestamp_epoch_ms']].agg(list).reset_index()\n",
        "\n",
        "  #make labels\n",
        "  df['label'] = np.where(df.product_action.map(set([7]).issubset), 0, 1)\n",
        "  \n",
        "  #trim sequences after first purchase event\n",
        "  def trim(df):\n",
        "    sequence_action = []\n",
        "    timestamp = []\n",
        "    for item, time in zip(df.product_action, df.server_timestamp_epoch_ms):\n",
        "      if 7 in set(item):\n",
        "        for e in range(len(item)):\n",
        "          if item[e] == 7:\n",
        "            item1 = item[: e]\n",
        "            sequence_action.append(item1)\n",
        "            time1 = time[: e] \n",
        "            timestamp.append(time1)\n",
        "            break\n",
        "      else:\n",
        "        sequence_action.append(item)\n",
        "        timestamp.append(time)\n",
        "    df['sequence_action'] = sequence_action\n",
        "    df['timestamp'] = timestamp\n",
        "    return df\n",
        "  trim(df)\n",
        "\n",
        "  #rearrange column order and drop old product_action column\n",
        "  df = df[['session_id_hash', 'sequence_action', 'timestamp', 'label']]\n",
        "\n",
        "  #drop sequences shorter than 5 and longer than 155\n",
        "  index_to_drop = []\n",
        "  for id, row in df.iterrows():\n",
        "    if len(row[1]) < 5 or len(row[1]) > 155:\n",
        "      index_to_drop.append(id)\n",
        "  df = df.drop(df.index[index_to_drop])\n",
        "\n",
        "  #add exit event\n",
        "  def add_exit(df):\n",
        "    sequence_exit = []\n",
        "    for id, row in df.iterrows():\n",
        "      row[1] = [0] + row[1] + [6]\n",
        "      sequence_exit.append(row[1])\n",
        "    df['sequence_exit'] = sequence_exit\n",
        "    return df\n",
        "  add_exit(df)\n",
        "\n",
        "  # add durations\n",
        "  def delta(df):\n",
        "    delta = []\n",
        "    for t in df['timestamp']:\n",
        "      v = [0] + list(np.diff([t[0]] + t))\n",
        "      v = np.asarray(v)\n",
        "      delta.append(v)\n",
        "    df['delta'] = delta\n",
        "    return df\n",
        "  delta(df)\n",
        "  \n",
        "  #reset index\n",
        "  df = df[['session_id_hash', 'sequence_exit', 'timestamp', 'delta', 'label']]\n",
        "  df = df.reset_index()\n",
        "  df.drop('index', inplace=True, axis=1)\n",
        "\n",
        "  return df\n"
      ],
      "execution_count": null,
      "outputs": []
    },
    {
      "cell_type": "code",
      "metadata": {
        "id": "q_blMhKlRyRB"
      },
      "source": [
        "### Preprocess Dataframe\n",
        "df2 = preprocess(df)"
      ],
      "execution_count": null,
      "outputs": []
    },
    {
      "cell_type": "code",
      "metadata": {
        "colab": {
          "base_uri": "https://localhost:8080/",
          "height": 597
        },
        "id": "xAOK3pibI7R6",
        "outputId": "86a1c32d-0b57-4b2f-bdc5-76896685f77c"
      },
      "source": [
        "df2"
      ],
      "execution_count": null,
      "outputs": [
        {
          "output_type": "execute_result",
          "data": {
            "text/html": [
              "<div>\n",
              "<style scoped>\n",
              "    .dataframe tbody tr th:only-of-type {\n",
              "        vertical-align: middle;\n",
              "    }\n",
              "\n",
              "    .dataframe tbody tr th {\n",
              "        vertical-align: top;\n",
              "    }\n",
              "\n",
              "    .dataframe thead th {\n",
              "        text-align: right;\n",
              "    }\n",
              "</style>\n",
              "<table border=\"1\" class=\"dataframe\">\n",
              "  <thead>\n",
              "    <tr style=\"text-align: right;\">\n",
              "      <th></th>\n",
              "      <th>session_id_hash</th>\n",
              "      <th>sequence_exit</th>\n",
              "      <th>timestamp</th>\n",
              "      <th>delta</th>\n",
              "      <th>label</th>\n",
              "    </tr>\n",
              "  </thead>\n",
              "  <tbody>\n",
              "    <tr>\n",
              "      <th>0</th>\n",
              "      <td>00007d15aeb741b3cdd873cb3933351d699cc320</td>\n",
              "      <td>[0, 1, 1, 2, 1, 2, 1, 2, 6]</td>\n",
              "      <td>[1544908835402, 1544908847263, 1544909035879, ...</td>\n",
              "      <td>[0, 0, 11861, 188616, 14067, 181642, 40819, 62...</td>\n",
              "      <td>1</td>\n",
              "    </tr>\n",
              "    <tr>\n",
              "      <th>1</th>\n",
              "      <td>00014c4428e61aca7e64be1064d2b6cf49233cfb</td>\n",
              "      <td>[0, 1, 1, 1, 1, 1, 1, 2, 5, 1, 2, 1, 1, 1, 1, ...</td>\n",
              "      <td>[1545550515947, 1545550562911, 1545550685332, ...</td>\n",
              "      <td>[0, 0, 46964, 122421, 18479, 5551, 10477, 9164...</td>\n",
              "      <td>1</td>\n",
              "    </tr>\n",
              "    <tr>\n",
              "      <th>2</th>\n",
              "      <td>00024193b68493dc098deb8a7d074ae438c615af</td>\n",
              "      <td>[0, 1, 1, 2, 5, 1, 6]</td>\n",
              "      <td>[1545035634176, 1545035642856, 1545035665242, ...</td>\n",
              "      <td>[0, 0, 8680, 22386, 8, 8628]</td>\n",
              "      <td>1</td>\n",
              "    </tr>\n",
              "    <tr>\n",
              "      <th>3</th>\n",
              "      <td>00033ce5ea7a3c31c62320c4631860fcf638f5b3</td>\n",
              "      <td>[0, 1, 1, 2, 1, 2, 1, 2, 1, 6]</td>\n",
              "      <td>[1545133756068, 1545133781992, 1545133945223, ...</td>\n",
              "      <td>[0, 0, 25924, 163231, 8779, 35520, 13783, 1518...</td>\n",
              "      <td>1</td>\n",
              "    </tr>\n",
              "    <tr>\n",
              "      <th>4</th>\n",
              "      <td>0003537cea83b232652aa2d29f90fec46e523443</td>\n",
              "      <td>[0, 1, 1, 1, 2, 1, 2, 1, 2, 1, 2, 1, 2, 6]</td>\n",
              "      <td>[1544880442310, 1544880482619, 1544880489778, ...</td>\n",
              "      <td>[0, 0, 40309, 7159, 64899, 28374, 31856, 20089...</td>\n",
              "      <td>1</td>\n",
              "    </tr>\n",
              "    <tr>\n",
              "      <th>...</th>\n",
              "      <td>...</td>\n",
              "      <td>...</td>\n",
              "      <td>...</td>\n",
              "      <td>...</td>\n",
              "      <td>...</td>\n",
              "    </tr>\n",
              "    <tr>\n",
              "      <th>203079</th>\n",
              "      <td>ffff38a875f9ac9e1b5b856ffedc0a4138b33911</td>\n",
              "      <td>[0, 1, 2, 1, 4, 1, 2, 1, 2, 1, 2, 6]</td>\n",
              "      <td>[1544867029115, 1544867677912, 1544867707956, ...</td>\n",
              "      <td>[0, 0, 648797, 30044, 5634, 7905, 27698, 18326...</td>\n",
              "      <td>1</td>\n",
              "    </tr>\n",
              "    <tr>\n",
              "      <th>203080</th>\n",
              "      <td>ffff53cb919d6e46ea7cf956124d42dda833e9a2</td>\n",
              "      <td>[0, 1, 1, 1, 1, 1, 1, 1, 1, 1, 6]</td>\n",
              "      <td>[1544398735741, 1544398752899, 1544398789200, ...</td>\n",
              "      <td>[0, 0, 17158, 36301, 13857, 14530, 24767, 4422...</td>\n",
              "      <td>1</td>\n",
              "    </tr>\n",
              "    <tr>\n",
              "      <th>203081</th>\n",
              "      <td>ffff994e0a8b2fbcef28215c9a5f3ccc564f397b</td>\n",
              "      <td>[0, 2, 2, 2, 1, 1, 1, 1, 1, 1, 1, 6]</td>\n",
              "      <td>[1544474002066, 1544474094102, 1544474094418, ...</td>\n",
              "      <td>[0, 0, 92036, 316, 5709, 7147, 3967, 659865, 5...</td>\n",
              "      <td>1</td>\n",
              "    </tr>\n",
              "    <tr>\n",
              "      <th>203082</th>\n",
              "      <td>ffffac40fa299e3832c53a3c07d3e1b8e495ab5a</td>\n",
              "      <td>[0, 1, 1, 1, 2, 1, 2, 1, 1, 1, 6]</td>\n",
              "      <td>[1544652731098, 1544653058871, 1544653065524, ...</td>\n",
              "      <td>[0, 0, 327773, 6653, 115874, 32848, 1244724, 1...</td>\n",
              "      <td>1</td>\n",
              "    </tr>\n",
              "    <tr>\n",
              "      <th>203083</th>\n",
              "      <td>ffffc2bce69fd5da3e9998fd5c788450a726ba4d</td>\n",
              "      <td>[0, 1, 1, 1, 2, 1, 2, 1, 4, 1, 1, 1, 2, 2, 1, 6]</td>\n",
              "      <td>[1545569403032, 1545569546438, 1545569866730, ...</td>\n",
              "      <td>[0, 0, 143406, 320292, 801774, 58234, 120052, ...</td>\n",
              "      <td>1</td>\n",
              "    </tr>\n",
              "  </tbody>\n",
              "</table>\n",
              "<p>203084 rows × 5 columns</p>\n",
              "</div>"
            ],
            "text/plain": [
              "                                 session_id_hash  ... label\n",
              "0       00007d15aeb741b3cdd873cb3933351d699cc320  ...     1\n",
              "1       00014c4428e61aca7e64be1064d2b6cf49233cfb  ...     1\n",
              "2       00024193b68493dc098deb8a7d074ae438c615af  ...     1\n",
              "3       00033ce5ea7a3c31c62320c4631860fcf638f5b3  ...     1\n",
              "4       0003537cea83b232652aa2d29f90fec46e523443  ...     1\n",
              "...                                          ...  ...   ...\n",
              "203079  ffff38a875f9ac9e1b5b856ffedc0a4138b33911  ...     1\n",
              "203080  ffff53cb919d6e46ea7cf956124d42dda833e9a2  ...     1\n",
              "203081  ffff994e0a8b2fbcef28215c9a5f3ccc564f397b  ...     1\n",
              "203082  ffffac40fa299e3832c53a3c07d3e1b8e495ab5a  ...     1\n",
              "203083  ffffc2bce69fd5da3e9998fd5c788450a726ba4d  ...     1\n",
              "\n",
              "[203084 rows x 5 columns]"
            ]
          },
          "metadata": {
            "tags": []
          },
          "execution_count": 15
        }
      ]
    },
    {
      "cell_type": "code",
      "metadata": {
        "colab": {
          "base_uri": "https://localhost:8080/"
        },
        "id": "AGZnkc861liR",
        "outputId": "5ddb69a3-71d6-4f2b-915f-d12b41d0883a"
      },
      "source": [
        "#plot average time on site\n",
        "average_time_on_site = []\n",
        "for row in df2['timestamp']:\n",
        "  average_time_on_site.append(row[-1]-row[0])\n",
        "q25, q75 = np.percentile(average_time_on_site,[.25,.75])\n",
        "bin_width = 2*(q75 - q25)*len(average_time_on_site)**(-1/3)\n",
        "average_time_on_site = np.asarray(average_time_on_site)\n",
        "bins = round((average_time_on_site.max() - average_time_on_site.min())/bin_width)\n",
        "print(\"Freedman–Diaconis number of bins:\", bins)\n",
        "plt.hist(average_time_on_site, density=True, bins=100)  # density=False would make counts\n",
        "plt.ylabel('Frequency')\n",
        "plt.xlabel('Time spent on the website');"
      ],
      "execution_count": null,
      "outputs": [
        {
          "output_type": "stream",
          "text": [
            "Freedman–Diaconis number of bins: 51658\n"
          ],
          "name": "stdout"
        }
      ]
    },
    {
      "cell_type": "code",
      "metadata": {
        "colab": {
          "base_uri": "https://localhost:8080/",
          "height": 279
        },
        "id": "HKL9t1UQ25ud",
        "outputId": "9cc2384b-93d9-42fa-9425-cba81a36f396"
      },
      "source": [
        ""
      ],
      "execution_count": null,
      "outputs": [
        {
          "output_type": "display_data",
          "data": {
            "image/png": "[encoded data removed]",
            "text/plain": [
              "<Figure size 432x288 with 1 Axes>"
            ]
          },
          "metadata": {
            "tags": []
          }
        }
      ]
    },
    {
      "cell_type": "code",
      "metadata": {
        "id": "GB9f4qBE3z8l"
      },
      "source": [
        "average_time_on_site = np.asarray(average_time_on_site)\n",
        "average_time_on_site= average_time_on_site/1000"
      ],
      "execution_count": null,
      "outputs": []
    },
    {
      "cell_type": "code",
      "metadata": {
        "colab": {
          "base_uri": "https://localhost:8080/",
          "height": 319
        },
        "id": "Yb9d44YP5S6-",
        "outputId": "ec092f8b-16ac-416c-d70b-b130adfb94ee"
      },
      "source": [
        "average_duration = []\n",
        "for row in df2['delta']:\n",
        "  row = np.asarray(row[2:])\n",
        "  mean = np.mean(row)\n",
        "  if mean < 500:\n",
        "    average_duration.append(mean)\n",
        "average_duration = np.asarray(average_duration)\n",
        "plt.hist(average_duration, density=False, bins=150, color = \"skyblue\", )  # density=False would make counts\n",
        "plt.ylabel('counts')\n",
        "plt.xlabel('average time spent on page');\n",
        "plt.title(\"Average time between consecutive actions\", size = 15, pad = 10)"
      ],
      "execution_count": null,
      "outputs": [
        {
          "output_type": "execute_result",
          "data": {
            "text/plain": [
              "Text(0.5, 1.0, 'Average time between consecutive actions')"
            ]
          },
          "metadata": {
            "tags": []
          },
          "execution_count": 56
        },
        {
          "output_type": "display_data",
          "data": {
            "image/png": "[encoded data removed]",
            "text/plain": [
              "<Figure size 432x288 with 1 Axes>"
            ]
          },
          "metadata": {
            "tags": []
          }
        }
      ]
    },
    {
      "cell_type": "code",
      "metadata": {
        "id": "HS4TEQpoAslV"
      },
      "source": [
        "average_d = pd.DataFrame()\n",
        "average_d['average duration'] = average_duration"
      ],
      "execution_count": null,
      "outputs": []
    },
    {
      "cell_type": "code",
      "metadata": {
        "colab": {
          "base_uri": "https://localhost:8080/"
        },
        "id": "qENpK_y37EHX",
        "outputId": "233dd159-5b02-4e7e-f1e9-2ede147e2f34"
      },
      "source": [
        "print(np.mean(average_duration))\n",
        "print(np.std(average_duration))\n",
        "print(max(average_duration))"
      ],
      "execution_count": null,
      "outputs": [
        {
          "output_type": "stream",
          "text": [
            "63.775401233595474\n",
            "60.40528630371501\n",
            "1159.98775\n"
          ],
          "name": "stdout"
        }
      ]
    },
    {
      "cell_type": "code",
      "metadata": {
        "colab": {
          "base_uri": "https://localhost:8080/",
          "height": 415
        },
        "id": "jXJbmw0oIcyU",
        "outputId": "299f8eba-6231-4b82-eabb-5ae4ff2b0d0a"
      },
      "source": [
        "#Bar plot\n",
        "view_c = 0\n",
        "detail_c= 0\n",
        "add_c= 0\n",
        "remove_c= 0\n",
        "click_c= 0\n",
        "view_nc= 0\n",
        "detail_nc= 0\n",
        "add_nc= 0\n",
        "remove_nc= 0\n",
        "click_nc= 0\n",
        "for id, row in df2.iterrows():\n",
        "  if row[4]==0:\n",
        "    for i in row[1]:\n",
        "      if i == 1:\n",
        "        view_c +=1\n",
        "      elif i == 2:\n",
        "        detail_c +=1\n",
        "      elif i == 3:\n",
        "        add_c +=1\n",
        "      elif i == 4:\n",
        "        remove_c +=1\n",
        "      elif i == 5:\n",
        "        click_c +=1\n",
        "  elif row[4]==1:\n",
        "    for i in row[1]:\n",
        "      if i == 1:\n",
        "        view_nc +=1\n",
        "      elif i == 2:\n",
        "        detail_nc +=1\n",
        "      elif i == 3:\n",
        "        add_nc +=1\n",
        "      elif i == 4:\n",
        "        remove_nc +=1\n",
        "      elif i == 5:\n",
        "        click_nc +=1\n",
        "import numpy as np\n",
        "import matplotlib.pyplot as plt\n",
        "\n",
        "conversion = (view_c,detail_c,add_c,remove_c,click_c)\n",
        "non_conversion = (view_nc,detail_nc,add_nc,remove_nc,click_nc)\n",
        "ind = ('view','detail','add','remove','click') # the x locations for the groups\n",
        "width = 0.35\n",
        "fig = plt.figure()\n",
        "ax = fig.add_axes([0,0,1,1])\n",
        "ax.bar(ind, non_conversion, width, color='r')\n",
        "ax.bar(ind, conversion, width,bottom=non_conversion , color='b')\n",
        "ax.set_ylabel('Counts (in 100k)')\n",
        "ax.set_title('Action events number by class',size = 15, pad = 10)\n",
        "ax.set_xticks(ind, ('G1', 'G2', 'G3', 'G4', 'G5'))\n",
        "ax.set_yticks(np.arange(0, 3000000, 300000))\n",
        "ax.legend(labels=['Non-onversion', 'Conversion'])\n",
        "plt.show()"
      ],
      "execution_count": null,
      "outputs": [
        {
          "output_type": "stream",
          "text": [
            "/usr/local/lib/python3.7/dist-packages/ipykernel_launcher.py:14: MatplotlibDeprecationWarning: Passing the minor parameter of set_xticks() positionally is deprecated since Matplotlib 3.2; the parameter will become keyword-only two minor releases later.\n",
            "  \n"
          ],
          "name": "stderr"
        },
        {
          "output_type": "display_data",
          "data": {
            "image/png": "[encoded data removed]",
            "text/plain": [
              "<Figure size 432x288 with 1 Axes>"
            ]
          },
          "metadata": {
            "tags": []
          }
        }
      ]
    },
    {
      "cell_type": "code",
      "metadata": {
        "colab": {
          "base_uri": "https://localhost:8080/",
          "height": 426
        },
        "id": "4rpNsbsk0ZFf",
        "outputId": "2492ee51-931d-41b2-914c-402146dca7fb"
      },
      "source": [
        "## histogram\n",
        "length_sequences_C = []\n",
        "length_sequences_NC = []\n",
        "\n",
        "tot0 = df2[df2['label'] == 0].shape[0]\n",
        "tot1 = df2[df2['label'] == 1].shape[0]\n",
        "\n",
        "for item, y in zip(df2.sequence_exit, df2.label):\n",
        "  if y == 0:\n",
        "    length_sequences_C.append(len(item))\n",
        "  else:\n",
        "    length_sequences_NC.append(len(item))\n",
        "\n",
        "plt.figure(figsize=(14,6))\n",
        "\n",
        "plt.hist(length_sequences_NC, bins=150, alpha=0.4, label=\"Non- conversion sequences\", density=True, color = \"g\")\n",
        "plt.hist(length_sequences_C, bins=150, alpha=0.4, label=\"Conversion sequences\", density=True, color = \"orange\")\n",
        "\n",
        "plt.yscale('log')\n",
        "plt.xlabel(\"Timesteps\", size=14)\n",
        "plt.ylabel(\"Probabilities\", size=14)\n",
        "plt.title(\"Histogram of Conversion and Non-conversion Trajectories \")\n",
        "plt.legend(loc='upper right')\n",
        "#plt.savefig(\"overlapping_histograms_with_matplotlib_Python.png\")"
      ],
      "execution_count": null,
      "outputs": [
        {
          "output_type": "execute_result",
          "data": {
            "text/plain": [
              "<matplotlib.legend.Legend at 0x7f982bcf04d0>"
            ]
          },
          "metadata": {
            "tags": []
          },
          "execution_count": 99
        },
        {
          "output_type": "display_data",
          "data": {
            "image/png": "[encoded data removed]",
            "text/plain": [
              "<Figure size 1008x432 with 1 Axes>"
            ]
          },
          "metadata": {
            "tags": []
          }
        }
      ]
    },
    {
      "cell_type": "code",
      "metadata": {
        "colab": {
          "base_uri": "https://localhost:8080/",
          "height": 347
        },
        "id": "MM4vo-_Ol_4L",
        "outputId": "0cb42cd3-1831-4e3d-c0f8-9f31755b0c63"
      },
      "source": [
        "#plot class imbalance\n",
        "pd.value_counts(df_1['label']).plot.bar()\n",
        "plt.title('Label histogram')\n",
        "plt.xlabel('Label')\n",
        "plt.ylabel('Frequency')\n",
        "df_1['label'].value_counts()"
      ],
      "execution_count": null,
      "outputs": [
        {
          "output_type": "execute_result",
          "data": {
            "text/plain": [
              "1    194755\n",
              "0      8329\n",
              "Name: label, dtype: int64"
            ]
          },
          "metadata": {
            "tags": []
          },
          "execution_count": 14
        },
        {
          "output_type": "display_data",
          "data": {
            "image/png": "[encoded data removed]",
            "text/plain": [
              "<Figure size 432x288 with 1 Axes>"
            ]
          },
          "metadata": {
            "tags": []
          }
        }
      ]
    },
    {
      "cell_type": "code",
      "metadata": {
        "id": "2vm_wnaL7U0Z"
      },
      "source": [
        "from keras.preprocessing.sequence import pad_sequences\n",
        "import sklearn\n",
        "import numpy as np\n",
        "from keras.utils import to_categorical\n",
        "\n",
        "num_classes = 7\n",
        "maxlen = 157\n",
        "\n",
        "X1 = []\n",
        "for sequence in df2['sequence_exit']:\n",
        "  X1.append(to_categorical(sequence, num_classes = num_classes))\n",
        "lol = X1\n",
        "X1 = pad_sequences(X1, maxlen = maxlen, value = 0)\n",
        "X2 = pad_sequences(df2['delta'], maxlen -1, value = -1)\n",
        "X3 = df2['timestamp']\n",
        "\n",
        "new_X = []\n",
        "new_y = []\n",
        "for x in X1:\n",
        "  new_X.append(x[:-1])\n",
        "  new_y.append(x[1:])\n",
        "\n",
        "new_X = np.asarray(new_X)\n",
        "new_y = np.asarray(new_y)\n",
        "\n",
        "\n",
        "X = pd.DataFrame({'new_X': list(new_X), 'X2': list(X2), 'X3': list(X3), 'new_y': list(new_y)}, columns=['new_X', 'X2', 'X3', 'new_y'])\n",
        "\n",
        "y = df2['label']"
      ],
      "execution_count": null,
      "outputs": []
    },
    {
      "cell_type": "code",
      "metadata": {
        "id": "qbn_8kFrotRs"
      },
      "source": [
        "#test train split\n",
        "from sklearn.model_selection import train_test_split\n",
        "\n",
        "X_train1, X_val1, y_train1, y_val1 = train_test_split(X, y, test_size=0.3, random_state=42, stratify = y)\n",
        "X_val2, X_test2, y_val2, y_test2 = train_test_split(X_val1, y_val1, test_size=0.5, random_state=42, stratify = y_val1)"
      ],
      "execution_count": null,
      "outputs": []
    },
    {
      "cell_type": "code",
      "metadata": {
        "colab": {
          "base_uri": "https://localhost:8080/"
        },
        "id": "Bm3Ik66XpKFp",
        "outputId": "2c6c9d82-a45f-4156-8f3b-2cb942c681b4"
      },
      "source": [
        "#Undersampling Training set\n",
        "\n",
        "from numpy import where\n",
        "from collections import Counter\n",
        "\n",
        "\n",
        "y_train = pd.DataFrame()\n",
        "y_train['new_y'] = X_train1['new_y']\n",
        "\n",
        "y_train['y_label'] = y_train1\n",
        "\n",
        "y_val = pd.DataFrame()\n",
        "y_val['new_y'] = X_val2['new_y']\n",
        "\n",
        "y_val['y_label'] = y_val2\n",
        "\n",
        "y_test = pd.DataFrame()\n",
        "y_test['new_y'] = X_test2['new_y']\n",
        "\n",
        "y_test['y_label'] = y_test2\n",
        "\n",
        "# summarize the new class distribution\n",
        "counter = Counter(y_train)\n",
        "print(counter)\n",
        "\n",
        "print(len(X_train1))\n",
        "print(len(X_val2))\n",
        "print(len(X_test2))\n",
        "\n",
        "print(len(y_train1))\n",
        "print(len(y_val2))\n",
        "print(len(y_test2))"
      ],
      "execution_count": null,
      "outputs": [
        {
          "output_type": "stream",
          "text": [
            "/usr/local/lib/python3.7/dist-packages/sklearn/externals/six.py:31: FutureWarning: The module is deprecated in version 0.21 and will be removed in version 0.23 since we've dropped support for Python 2.7. Please rely on the official version of six (https://pypi.org/project/six/).\n",
            "  \"(https://pypi.org/project/six/).\", FutureWarning)\n",
            "/usr/local/lib/python3.7/dist-packages/sklearn/utils/deprecation.py:144: FutureWarning: The sklearn.neighbors.base module is  deprecated in version 0.22 and will be removed in version 0.24. The corresponding classes / functions should instead be imported from sklearn.neighbors. Anything that cannot be imported from sklearn.neighbors is now part of the private API.\n",
            "  warnings.warn(message, FutureWarning)\n"
          ],
          "name": "stderr"
        },
        {
          "output_type": "stream",
          "text": [
            "Counter({'new_y': 1, 'y_label': 1})\n",
            "142158\n",
            "30463\n",
            "30463\n",
            "142158\n",
            "30463\n",
            "30463\n"
          ],
          "name": "stdout"
        }
      ]
    },
    {
      "cell_type": "code",
      "metadata": {
        "colab": {
          "base_uri": "https://localhost:8080/",
          "height": 347
        },
        "id": "c3ZwEqSXQQsi",
        "outputId": "3420605e-263a-4a80-d911-42e150aee17d"
      },
      "source": [
        "pd.value_counts(y_train['y_label']).plot.bar()\n",
        "plt.title('Label histogram')\n",
        "plt.xlabel('Label')\n",
        "plt.ylabel('Frequency')\n",
        "y_train['y_label'].value_counts()"
      ],
      "execution_count": null,
      "outputs": [
        {
          "output_type": "execute_result",
          "data": {
            "text/plain": [
              "1    136328\n",
              "0      5830\n",
              "Name: y_label, dtype: int64"
            ]
          },
          "metadata": {
            "tags": []
          },
          "execution_count": 23
        },
        {
          "output_type": "display_data",
          "data": {
            "image/png": "[encoded data removed]",
            "text/plain": [
              "<Figure size 432x288 with 1 Axes>"
            ]
          },
          "metadata": {
            "tags": []
          }
        }
      ]
    },
    {
      "cell_type": "code",
      "metadata": {
        "id": "WiBKDFw8vYda"
      },
      "source": [
        "X_train_new = np.stack(X_train1['new_X']).reshape((len(X_train1['new_X']), (maxlen -1 ) , num_classes)).astype(np.float32)\n",
        "X_val_new = np.stack(X_val2['new_X']).reshape((len(X_val2['new_X']), (maxlen -1 ), num_classes)).astype(np.float32)\n",
        "X_test_new = np.stack(X_test2['new_X']).reshape((len(X_test2['new_X']), (maxlen -1), num_classes)).astype(np.float32)\n",
        "X_train_delta = np.stack(X_train1['X2']).reshape((len(X_train1['X2']), maxlen-1)).astype(np.float32)\n",
        "X_val_delta = np.stack(X_val2['X2']).reshape((len(X_val2['X2']),maxlen -1)).astype(np.float32)\n",
        "X_test_delta = np.stack(X_test2['X2']).reshape((len(X_test2['X2']),maxlen -1)).astype(np.float32)\n",
        "X_train_time = np.asarray(X_train1['X3'])\n",
        "X_val_time = np.asarray(X_val2['X3'])\n",
        "X_test_time = np.asarray(X_test2['X3'])\n",
        "\n",
        "y_train_label = y_train['y_label']\n",
        "y_val_label = y_val['y_label']\n",
        "y_test_label = y_test['y_label']\n",
        "\n",
        "y_train_new = np.stack(y_train['new_y']).reshape((len(y_train['new_y']), (maxlen -1 ), num_classes)).astype(np.float32)\n",
        "y_val_new = np.stack(y_val['new_y']).reshape((len(y_val['new_y']), (maxlen -1), num_classes)).astype(np.float32)\n",
        "y_test_new = np.stack(y_test['new_y']).reshape((len(y_test['new_y']), (maxlen -1 ), num_classes)).astype(np.float32)\n"
      ],
      "execution_count": null,
      "outputs": []
    },
    {
      "cell_type": "code",
      "metadata": {
        "colab": {
          "base_uri": "https://localhost:8080/"
        },
        "id": "j-qdN0fkPrwR",
        "outputId": "85d7a41a-2fa9-4de9-ee56-a5b5e1231012"
      },
      "source": [
        "print(X_train_new.shape)\n",
        "print(X_val_new.shape)\n",
        "print(X_test_new.shape)\n",
        "print('---------------')\n",
        "print(X_train_delta.shape)\n",
        "print(X_val_delta.shape)\n",
        "print(X_test_delta.shape)\n",
        "print('---------------')\n",
        "print(y_train_new.shape)\n",
        "print(y_val_new.shape)\n",
        "print(y_test_new.shape)"
      ],
      "execution_count": null,
      "outputs": [
        {
          "output_type": "stream",
          "text": [
            "(142158, 156, 7)\n",
            "(30463, 156, 7)\n",
            "(30463, 156, 7)\n",
            "---------------\n",
            "(142158, 156)\n",
            "(30463, 156)\n",
            "(30463, 156)\n",
            "---------------\n",
            "(142158, 156, 7)\n",
            "(30463, 156, 7)\n",
            "(30463, 156, 7)\n"
          ],
          "name": "stdout"
        }
      ]
    },
    {
      "cell_type": "code",
      "metadata": {
        "id": "xiWMfGvzX9D9"
      },
      "source": [
        "#Discriminative specialised LSTM\n",
        "from keras.layers import LSTM, Dense, Masking, Input, BatchNormalization\n",
        "from keras import  Model\n",
        "\n",
        "main_input = Input(shape=(maxlen -1, num_classes), name='main_input')\n",
        "mask = Masking(mask_value = [0.,0.,0.,0.,0.,0.,0.], name = 'mask' )(main_input)\n",
        "# train a 2-layer LSTM with one shared layer\n",
        "l1 = LSTM(64, return_sequences=True)(mask)  # the shared layer\n",
        "b1 = BatchNormalization()(l1)\n",
        "\n",
        "l2_1 = LSTM(64, return_sequences=False)(b1)  # the layer specialized in activity prediction\n",
        "b2_1 = BatchNormalization()(l2_1)\n",
        "\n",
        "binary_output = Dense(1, activation='sigmoid', name='binary_output')(b2_1)\n",
        "\n",
        "model_SD = Model(inputs=[main_input], outputs=[binary_output])\n",
        "\n",
        "model_SD.compile(loss= 'binary_crossentropy',optimizer = 'adam', metrics = ['acc'])"
      ],
      "execution_count": null,
      "outputs": []
    },
    {
      "cell_type": "code",
      "metadata": {
        "colab": {
          "base_uri": "https://localhost:8080/"
        },
        "id": "S7GRbeksYRj3",
        "outputId": "dbf5b285-f128-470e-ae57-e8ee432fd2be"
      },
      "source": [
        "#Fit model\n",
        "batch_size = 64\n",
        "epochs = 5\n",
        "history_SD = model_SD.fit(X_train_new, y_train_label,\n",
        "                         validation_data = (X_val_new, y_val_label),\n",
        "                         verbose=1,\n",
        "                         batch_size=batch_size,\n",
        "                         epochs=epochs)"
      ],
      "execution_count": null,
      "outputs": [
        {
          "output_type": "stream",
          "text": [
            "Epoch 1/5\n",
            "2222/2222 [==============================] - 765s 341ms/step - loss: 0.1958 - acc: 0.9365 - val_loss: 0.0869 - val_acc: 0.9611\n",
            "Epoch 2/5\n",
            "2222/2222 [==============================] - 747s 336ms/step - loss: 0.0784 - acc: 0.9654 - val_loss: 0.0783 - val_acc: 0.9674\n",
            "Epoch 3/5\n",
            "2222/2222 [==============================] - 746s 336ms/step - loss: 0.0784 - acc: 0.9655 - val_loss: 0.0782 - val_acc: 0.9668\n",
            "Epoch 4/5\n",
            "2222/2222 [==============================] - 742s 334ms/step - loss: 0.0791 - acc: 0.9659 - val_loss: 0.0767 - val_acc: 0.9682\n",
            "Epoch 5/5\n",
            "2222/2222 [==============================] - 744s 335ms/step - loss: 0.0775 - acc: 0.9666 - val_loss: 0.0785 - val_acc: 0.9659\n"
          ],
          "name": "stdout"
        }
      ]
    },
    {
      "cell_type": "code",
      "metadata": {
        "id": "7fKpqFhet3Ez"
      },
      "source": [
        "# model predict\n",
        "y_pred_binary_SD = model_SD.predict(X_test_new)"
      ],
      "execution_count": null,
      "outputs": []
    },
    {
      "cell_type": "code",
      "metadata": {
        "id": "-_tSkZj2uXtI"
      },
      "source": [
        "#save model\n",
        "model_SD.save('model_SD.h5')"
      ],
      "execution_count": null,
      "outputs": []
    },
    {
      "cell_type": "code",
      "metadata": {
        "id": "88Zg0Du9ujfs"
      },
      "source": [
        "#load model\n",
        "model_SD = tf.keras.models.load_model('/content/drive/MyDrive/Colab Notebooks/Thesis/model_SD.h5')"
      ],
      "execution_count": null,
      "outputs": []
    },
    {
      "cell_type": "code",
      "metadata": {
        "id": "uZA_ErvQRRS7"
      },
      "source": [
        "#TIME generative specialised TIME LSTM\n",
        "from keras.layers import LSTM, Dense, Masking, Input, BatchNormalization\n",
        "from keras import  Model\n",
        "from src import TLSTM_layer\n",
        "main_input = Input(shape=(maxlen -1, num_classes), name='main_input')\n",
        "mask1 = Masking(mask_value = 0, name = 'mask1' )(main_input)\n",
        "# delta_ts: (batch_size, 1)\n",
        "delta_ts = Input(shape=(maxlen -1, ), name='delta_ts')\n",
        "mask2 = Masking(mask_value = -1, name = 'mask2' )(delta_ts)\n",
        "# train a 2-layer LSTM with one shared layer\n",
        "l1 = TLSTM_layer(64, return_sequence=True)(mask1,mask2)  # the shared layer\n",
        "b1 = BatchNormalization()(l1)\n",
        "\n",
        "l2_1 = TLSTM_layer(64, return_sequence=True)(b1,mask2)  # the layer specialized in activity prediction\n",
        "b2_1 = BatchNormalization()(l2_1)\n",
        "\n",
        "act_output = Dense(num_classes, activation='softmax', name='act_output')(b2_1)\n",
        "\n",
        "time_model_SG = Model(inputs=[main_input, delta_ts], outputs=[act_output])\n",
        "\n",
        "time_model_SG.compile(loss= 'categorical_crossentropy',optimizer = 'adam', metrics = ['acc'])"
      ],
      "execution_count": null,
      "outputs": []
    },
    {
      "cell_type": "code",
      "metadata": {
        "colab": {
          "base_uri": "https://localhost:8080/"
        },
        "id": "CW-9MdcLSO88",
        "outputId": "b7636211-84db-4fa6-a32c-3f1e89e94539"
      },
      "source": [
        "#Fit model\n",
        "batch_size = 64\n",
        "epochs = 5\n",
        "history_time_SG = time_model_SG.fit([X_train_new, X_train_delta], y_train_new,\n",
        "                         validation_data = ([X_val_new, X_val_delta], y_val_new),\n",
        "                         verbose=1,\n",
        "                         batch_size=batch_size,\n",
        "                         epochs=epochs)"
      ],
      "execution_count": null,
      "outputs": [
        {
          "output_type": "stream",
          "text": [
            "Epoch 1/5\n",
            "2222/2222 [==============================] - 908s 406ms/step - loss: 0.1162 - acc: 0.6957 - val_loss: 0.1014 - val_acc: 0.7291\n",
            "Epoch 2/5\n",
            "2222/2222 [==============================] - 891s 401ms/step - loss: 0.0995 - acc: 0.7281 - val_loss: 0.1006 - val_acc: 0.7286\n",
            "Epoch 3/5\n",
            "2222/2222 [==============================] - 894s 403ms/step - loss: 0.0992 - acc: 0.7281 - val_loss: 0.0994 - val_acc: 0.7315\n",
            "Epoch 4/5\n",
            "2222/2222 [==============================] - 907s 408ms/step - loss: 0.0988 - acc: 0.7293 - val_loss: 0.1023 - val_acc: 0.7293\n",
            "Epoch 5/5\n",
            "2222/2222 [==============================] - 885s 398ms/step - loss: 0.0960 - acc: 0.7294 - val_loss: 0.0907 - val_acc: 0.7400\n"
          ],
          "name": "stdout"
        }
      ]
    },
    {
      "cell_type": "code",
      "metadata": {
        "id": "8XylroSssPfu"
      },
      "source": [
        "y_pred_act_TIME_SG= time_model_SG.predict([X_test_new, X_test_delta])"
      ],
      "execution_count": null,
      "outputs": []
    },
    {
      "cell_type": "code",
      "metadata": {
        "colab": {
          "base_uri": "https://localhost:8080/"
        },
        "id": "Byh_QyjOrmfG",
        "outputId": "b3d1d869-135b-469d-a7e8-46b608603b52"
      },
      "source": [
        "time_model_SG.save('time_model_SG.h5')"
      ],
      "execution_count": null,
      "outputs": [
        {
          "output_type": "stream",
          "text": [
            "INFO:tensorflow:Assets written to: time_model_SG.tf/assets\n"
          ],
          "name": "stdout"
        }
      ]
    },
    {
      "cell_type": "code",
      "metadata": {
        "id": "Ww1BHJA1uw-c"
      },
      "source": [
        "from src import TLSTM_layer\n",
        "time_model_SG = tf.keras.models.load_model('/content/drive/MyDrive/Colab Notebooks/Thesis/time_model_SG.h5', custom_objects={'TLSTM_layer':TLSTM_layer})"
      ],
      "execution_count": null,
      "outputs": []
    },
    {
      "cell_type": "code",
      "metadata": {
        "id": "UkJgBEuALzky"
      },
      "source": [
        "#TIME discriminative specialised TIME LSTM\n",
        "from keras.layers import LSTM, Dense, Masking, Input, BatchNormalization, Lambda\n",
        "from keras import  Model\n",
        "from src import TLSTM_layer\n",
        "main_input = Input(shape=(maxlen -1, num_classes), name='main_input')\n",
        "mask1 = Masking(mask_value = 0, name = 'mask1' )(main_input)\n",
        "# delta_ts: (batch_size, 1)\n",
        "delta_ts = Input(shape=(maxlen -1, ), name='delta_ts')\n",
        "mask2 = Masking(mask_value = -1, name = 'mask2' )(delta_ts)\n",
        "# train a 2-layer LSTM with one shared layer\n",
        "l1 = TLSTM_layer(64, return_sequence=True)(mask1,mask2)  # the shared layer\n",
        "b1 = BatchNormalization()(l1)\n",
        "\n",
        "l2_2a = TLSTM_layer(64, return_sequence=True)(b1, mask2)\n",
        "l2_2 = Lambda(lambda x: x[:, -1, :])(l2_2a)\n",
        "b2_1 = BatchNormalization()(l2_2)\n",
        "\n",
        "binary_output = Dense(1, activation='sigmoid', name='act_output')(b2_1)\n",
        "\n",
        "time_model_SD = Model(inputs=[main_input, delta_ts], outputs=[binary_output])\n",
        "\n",
        "time_model_SD.compile(loss= 'binary_crossentropy',optimizer = 'adam', metrics = ['acc'])\n"
      ],
      "execution_count": null,
      "outputs": []
    },
    {
      "cell_type": "code",
      "metadata": {
        "colab": {
          "base_uri": "https://localhost:8080/"
        },
        "id": "JGiPPqMSMMFi",
        "outputId": "e12f4124-848c-459c-d31e-ca2d0e4924e3"
      },
      "source": [
        "#Fit model\n",
        "batch_size = 64\n",
        "epochs = 5\n",
        "history_time_SD = time_model_SD.fit([X_train_new, X_train_delta], y_train_label,\n",
        "                         validation_data = ([X_val_new, X_val_delta], y_val_label),\n",
        "                         verbose=1,\n",
        "                         batch_size=batch_size,\n",
        "                         epochs=epochs)"
      ],
      "execution_count": null,
      "outputs": [
        {
          "output_type": "stream",
          "text": [
            "Epoch 1/5\n",
            "2222/2222 [==============================] - 867s 388ms/step - loss: 0.2088 - acc: 0.9251 - val_loss: 0.0879 - val_acc: 0.9655\n",
            "Epoch 2/5\n",
            "2222/2222 [==============================] - 876s 394ms/step - loss: 0.0935 - acc: 0.9629 - val_loss: 0.0945 - val_acc: 0.9631\n",
            "Epoch 3/5\n",
            "2222/2222 [==============================] - 874s 393ms/step - loss: 0.0956 - acc: 0.9614 - val_loss: 0.0935 - val_acc: 0.9628\n",
            "Epoch 4/5\n",
            "2222/2222 [==============================] - 868s 391ms/step - loss: 0.0845 - acc: 0.9632 - val_loss: 0.0836 - val_acc: 0.9614\n",
            "Epoch 5/5\n",
            "2222/2222 [==============================] - 877s 395ms/step - loss: 0.0850 - acc: 0.9611 - val_loss: 0.1244 - val_acc: 0.9513\n"
          ],
          "name": "stdout"
        }
      ]
    },
    {
      "cell_type": "code",
      "metadata": {
        "id": "Dz-xx0w2FnB3"
      },
      "source": [
        "# model predict\n",
        "y_pred_binary_TIME_SD = time_model_SD.predict([X_test_new, X_test_delt])"
      ],
      "execution_count": null,
      "outputs": []
    },
    {
      "cell_type": "code",
      "metadata": {
        "id": "Wpm1N5tcmuoR"
      },
      "source": [
        "time_model_SD.save('time_model_SD.h5')"
      ],
      "execution_count": null,
      "outputs": []
    },
    {
      "cell_type": "code",
      "metadata": {
        "colab": {
          "base_uri": "https://localhost:8080/",
          "height": 191
        },
        "id": "JtNJ_IlXFNOc",
        "outputId": "d62d5302-106c-49d5-9cc7-e113c633f2df"
      },
      "source": [
        "time_model_SD = tf.keras.models.load_model('/content/drive/MyDrive/Colab Notebooks/Thesis/time_model_SD.h5',custom_objects={'TLSTM_layer':TLSTM_layer})"
      ],
      "execution_count": 2,
      "outputs": [
        {
          "output_type": "error",
          "ename": "NameError",
          "evalue": "ignored",
          "traceback": [
            "\u001b[0;31m---------------------------------------------------------------------------\u001b[0m",
            "\u001b[0;31mNameError\u001b[0m                                 Traceback (most recent call last)",
            "\u001b[0;32m<ipython-input-2-765533b3cf8a>\u001b[0m in \u001b[0;36m<module>\u001b[0;34m()\u001b[0m\n\u001b[0;32m----> 1\u001b[0;31m \u001b[0mtime_model_SD\u001b[0m \u001b[0;34m=\u001b[0m \u001b[0mtf\u001b[0m\u001b[0;34m.\u001b[0m\u001b[0mkeras\u001b[0m\u001b[0;34m.\u001b[0m\u001b[0mmodels\u001b[0m\u001b[0;34m.\u001b[0m\u001b[0mload_model\u001b[0m\u001b[0;34m(\u001b[0m\u001b[0;34m'/content/drive/MyDrive/Colab Notebooks/Thesis/time_model_SD.h5'\u001b[0m\u001b[0;34m,\u001b[0m\u001b[0mcustom_objects\u001b[0m\u001b[0;34m=\u001b[0m\u001b[0;34m{\u001b[0m\u001b[0;34m'TLSTM_layer'\u001b[0m\u001b[0;34m:\u001b[0m\u001b[0mTLSTM_layer\u001b[0m\u001b[0;34m}\u001b[0m\u001b[0;34m)\u001b[0m\u001b[0;34m\u001b[0m\u001b[0;34m\u001b[0m\u001b[0m\n\u001b[0m",
            "\u001b[0;31mNameError\u001b[0m: name 'tf' is not defined"
          ]
        }
      ]
    },
    {
      "cell_type": "code",
      "metadata": {
        "id": "gW51k9h5X-Qm"
      },
      "source": [
        "#Generative specialised LSTM\n",
        "from keras.layers import LSTM, Dense, Masking, Input, BatchNormalization\n",
        "from keras import  Model\n",
        "\n",
        "main_input = Input(shape=(maxlen -1, num_classes), name='main_input')\n",
        "mask = Masking(mask_value = [0.,0.,0.,0.,0.,0.,0.], name = 'mask' )(main_input)\n",
        "# train a 2-layer LSTM with one shared layer\n",
        "l1 = LSTM(64, return_sequences=True)(mask)  # the shared layer\n",
        "b1 = BatchNormalization()(l1)\n",
        "\n",
        "l2_1 = LSTM(64, return_sequences=True)(b1)  # the layer specialized in activity prediction\n",
        "b2_1 = BatchNormalization()(l2_1)\n",
        "\n",
        "act_output = Dense(num_classes, activation='softmax', name='act_output')(b2_1)\n",
        "\n",
        "model_SG = Model(inputs=[main_input], outputs=[act_output])\n",
        "\n",
        "model_SG.compile(loss= 'categorical_crossentropy',optimizer = 'adam', metrics = ['acc'])"
      ],
      "execution_count": null,
      "outputs": []
    },
    {
      "cell_type": "code",
      "metadata": {
        "colab": {
          "base_uri": "https://localhost:8080/"
        },
        "id": "IqXe-AsbHZii",
        "outputId": "1c685140-4a82-4cde-c910-dc477115b4d6"
      },
      "source": [
        "#Fit model\n",
        "batch_size = 64\n",
        "epochs = 5\n",
        "history = model_SG.fit(X_train_new, y_train_new,\n",
        "                         validation_data = (X_val_new, y_val_new),\n",
        "                         verbose=1,\n",
        "                         batch_size=batch_size,\n",
        "                         epochs=epochs)"
      ],
      "execution_count": null,
      "outputs": [
        {
          "output_type": "stream",
          "text": [
            "Epoch 1/5\n",
            "2222/2222 [==============================] - 809s 361ms/step - loss: 0.1075 - acc: 0.7114 - val_loss: 0.1007 - val_acc: 0.7282\n",
            "Epoch 2/5\n",
            "2222/2222 [==============================] - 776s 349ms/step - loss: 0.0993 - acc: 0.7279 - val_loss: 0.1001 - val_acc: 0.7313\n",
            "Epoch 3/5\n",
            "2222/2222 [==============================] - 773s 348ms/step - loss: 0.0989 - acc: 0.7287 - val_loss: 0.0996 - val_acc: 0.7319\n",
            "Epoch 4/5\n",
            "2222/2222 [==============================] - 791s 356ms/step - loss: 0.0986 - acc: 0.7289 - val_loss: 0.0999 - val_acc: 0.7306\n",
            "Epoch 5/5\n",
            "2222/2222 [==============================] - 776s 349ms/step - loss: 0.0980 - acc: 0.7296 - val_loss: 0.0999 - val_acc: 0.7314\n"
          ],
          "name": "stdout"
        }
      ]
    },
    {
      "cell_type": "code",
      "metadata": {
        "id": "n3xQ6ZWcHx0K"
      },
      "source": [
        "# model predict\n",
        "y_pred_act_SG = model_SG.predict(X_test_new)"
      ],
      "execution_count": null,
      "outputs": []
    },
    {
      "cell_type": "code",
      "metadata": {
        "id": "RKtJ3AosvYcp"
      },
      "source": [
        "#save model\n",
        "model_SG.save('model_SG.h5')"
      ],
      "execution_count": null,
      "outputs": []
    },
    {
      "cell_type": "code",
      "metadata": {
        "id": "kBLD23p3uirv"
      },
      "source": [
        "model_SG = tf.keras.models.load_model('/content/drive/MyDrive/Colab Notebooks/Thesis/model_SG.h5')"
      ],
      "execution_count": null,
      "outputs": []
    },
    {
      "cell_type": "code",
      "metadata": {
        "colab": {
          "base_uri": "https://localhost:8080/"
        },
        "id": "ftpb-d5U5bGz",
        "outputId": "a605bc95-4fd8-4679-daa0-5600f171c954"
      },
      "source": [
        "## Gen and discriminative LSTM\n",
        "from keras.layers import LSTM, Dense, Masking, Input, BatchNormalization\n",
        "from keras import  Model\n",
        "\n",
        "main_input = Input(shape=(maxlen -1, num_classes), name='main_input')\n",
        "mask = Masking(mask_value = [0.,0.,0.,0.,0.,0.,0.], name = 'mask' )(main_input)\n",
        "# train a 2-layer LSTM with one shared layer\n",
        "l1 = LSTM(64, return_sequences=True)(mask)  # the shared layer\n",
        "b1 = BatchNormalization()(l1)\n",
        "\n",
        "l2_1 = LSTM(64, return_sequences=True)(b1)  # the layer specialized in activity prediction\n",
        "b2_1 = BatchNormalization()(l2_1)\n",
        "\n",
        "l2_2 = LSTM(64)(b1)  # the layer specialized in classifcation\n",
        "b2_2 = BatchNormalization()(l2_2)\n",
        "\n",
        "act_output = Dense(num_classes, activation='softmax', name='act_output')(b2_1)\n",
        "binary_output = Dense(1, activation='sigmoid',name='binary_output')(b2_2)\n",
        "\n",
        "model = Model(inputs=[main_input], outputs=[act_output, binary_output])\n",
        "model.compile(loss={'act_output': 'categorical_crossentropy', 'binary_output': 'binary_crossentropy'},\n",
        "                      optimizer = 'adam', metrics = ['acc'])\n",
        "model.summary()"
      ],
      "execution_count": null,
      "outputs": [
        {
          "output_type": "stream",
          "text": [
            "Model: \"model\"\n",
            "__________________________________________________________________________________________________\n",
            "Layer (type)                    Output Shape         Param #     Connected to                     \n",
            "==================================================================================================\n",
            "main_input (InputLayer)         [(None, 156, 7)]     0                                            \n",
            "__________________________________________________________________________________________________\n",
            "mask (Masking)                  (None, 156, 7)       0           main_input[0][0]                 \n",
            "__________________________________________________________________________________________________\n",
            "lstm (LSTM)                     (None, 156, 64)      18432       mask[0][0]                       \n",
            "__________________________________________________________________________________________________\n",
            "batch_normalization (BatchNorma (None, 156, 64)      256         lstm[0][0]                       \n",
            "__________________________________________________________________________________________________\n",
            "lstm_1 (LSTM)                   (None, 156, 64)      33024       batch_normalization[0][0]        \n",
            "__________________________________________________________________________________________________\n",
            "lstm_2 (LSTM)                   (None, 64)           33024       batch_normalization[0][0]        \n",
            "__________________________________________________________________________________________________\n",
            "batch_normalization_1 (BatchNor (None, 156, 64)      256         lstm_1[0][0]                     \n",
            "__________________________________________________________________________________________________\n",
            "batch_normalization_2 (BatchNor (None, 64)           256         lstm_2[0][0]                     \n",
            "__________________________________________________________________________________________________\n",
            "act_output (Dense)              (None, 156, 7)       455         batch_normalization_1[0][0]      \n",
            "__________________________________________________________________________________________________\n",
            "binary_output (Dense)           (None, 1)            65          batch_normalization_2[0][0]      \n",
            "==================================================================================================\n",
            "Total params: 85,768\n",
            "Trainable params: 85,384\n",
            "Non-trainable params: 384\n",
            "__________________________________________________________________________________________________\n"
          ],
          "name": "stdout"
        }
      ]
    },
    {
      "cell_type": "code",
      "metadata": {
        "colab": {
          "base_uri": "https://localhost:8080/",
          "height": 706
        },
        "id": "UjdG7jb38ams",
        "outputId": "389b9961-1bfa-413d-d5b6-cf127896d97d"
      },
      "source": [
        "from IPython.display       import SVG\n",
        "from keras.utils.vis_utils import model_to_dot\n",
        "\n",
        "SVG(model_to_dot(model, show_shapes = True, show_layer_names = True, dpi=65).create(prog='dot', format='svg'))"
      ],
      "execution_count": null,
      "outputs": [
        {
          "output_type": "execute_result",
          "data": {
            "image/svg+xml": "<svg height=\"499pt\" viewBox=\"0.00 0.00 874.00 553.00\" width=\"789pt\" xmlns=\"http://www.w3.org/2000/svg\" xmlns:xlink=\"http://www.w3.org/1999/xlink\">\n<g class=\"graph\" id=\"graph0\" transform=\"scale(.9028 .9028) rotate(0) translate(4 549)\">\n<title>G</title>\n<polygon fill=\"#ffffff\" points=\"-4,4 -4,-549 870,-549 870,4 -4,4\" stroke=\"transparent\"/>\n<!-- 139757528242064 -->\n<g class=\"node\" id=\"node1\">\n<title>139757528242064</title>\n<polygon fill=\"none\" points=\"279,-498.5 279,-544.5 602,-544.5 602,-498.5 279,-498.5\" stroke=\"#000000\"/>\n<text fill=\"#000000\" font-family=\"Times,serif\" font-size=\"14.00\" text-anchor=\"middle\" x=\"356\" y=\"-517.8\">main_input: InputLayer</text>\n<polyline fill=\"none\" points=\"433,-498.5 433,-544.5 \" stroke=\"#000000\"/>\n<text fill=\"#000000\" font-family=\"Times,serif\" font-size=\"14.00\" text-anchor=\"middle\" x=\"462\" y=\"-529.3\">input:</text>\n<polyline fill=\"none\" points=\"433,-521.5 491,-521.5 \" stroke=\"#000000\"/>\n<text fill=\"#000000\" font-family=\"Times,serif\" font-size=\"14.00\" text-anchor=\"middle\" x=\"462\" y=\"-506.3\">output:</text>\n<polyline fill=\"none\" points=\"491,-498.5 491,-544.5 \" stroke=\"#000000\"/>\n<text fill=\"#000000\" font-family=\"Times,serif\" font-size=\"14.00\" text-anchor=\"middle\" x=\"546.5\" y=\"-529.3\">[(None, 156, 7)]</text>\n<polyline fill=\"none\" points=\"491,-521.5 602,-521.5 \" stroke=\"#000000\"/>\n<text fill=\"#000000\" font-family=\"Times,serif\" font-size=\"14.00\" text-anchor=\"middle\" x=\"546.5\" y=\"-506.3\">[(None, 156, 7)]</text>\n</g>\n<!-- 139757597341328 -->\n<g class=\"node\" id=\"node2\">\n<title>139757597341328</title>\n<polygon fill=\"none\" points=\"308.5,-415.5 308.5,-461.5 572.5,-461.5 572.5,-415.5 308.5,-415.5\" stroke=\"#000000\"/>\n<text fill=\"#000000\" font-family=\"Times,serif\" font-size=\"14.00\" text-anchor=\"middle\" x=\"360.5\" y=\"-434.8\">mask: Masking</text>\n<polyline fill=\"none\" points=\"412.5,-415.5 412.5,-461.5 \" stroke=\"#000000\"/>\n<text fill=\"#000000\" font-family=\"Times,serif\" font-size=\"14.00\" text-anchor=\"middle\" x=\"441.5\" y=\"-446.3\">input:</text>\n<polyline fill=\"none\" points=\"412.5,-438.5 470.5,-438.5 \" stroke=\"#000000\"/>\n<text fill=\"#000000\" font-family=\"Times,serif\" font-size=\"14.00\" text-anchor=\"middle\" x=\"441.5\" y=\"-423.3\">output:</text>\n<polyline fill=\"none\" points=\"470.5,-415.5 470.5,-461.5 \" stroke=\"#000000\"/>\n<text fill=\"#000000\" font-family=\"Times,serif\" font-size=\"14.00\" text-anchor=\"middle\" x=\"521.5\" y=\"-446.3\">(None, 156, 7)</text>\n<polyline fill=\"none\" points=\"470.5,-438.5 572.5,-438.5 \" stroke=\"#000000\"/>\n<text fill=\"#000000\" font-family=\"Times,serif\" font-size=\"14.00\" text-anchor=\"middle\" x=\"521.5\" y=\"-423.3\">(None, 156, 7)</text>\n</g>\n<!-- 139757528242064&#45;&gt;139757597341328 -->\n<g class=\"edge\" id=\"edge1\">\n<title>139757528242064-&gt;139757597341328</title>\n<path d=\"M440.5,-498.3799C440.5,-490.1745 440.5,-480.7679 440.5,-471.8786\" fill=\"none\" stroke=\"#000000\"/>\n<polygon fill=\"#000000\" points=\"444.0001,-471.784 440.5,-461.784 437.0001,-471.784 444.0001,-471.784\" stroke=\"#000000\"/>\n</g>\n<!-- 139757660865616 -->\n<g class=\"node\" id=\"node3\">\n<title>139757660865616</title>\n<polygon fill=\"none\" points=\"301.5,-332.5 301.5,-378.5 579.5,-378.5 579.5,-332.5 301.5,-332.5\" stroke=\"#000000\"/>\n<text fill=\"#000000\" font-family=\"Times,serif\" font-size=\"14.00\" text-anchor=\"middle\" x=\"356.5\" y=\"-351.8\">lstm_12: LSTM</text>\n<polyline fill=\"none\" points=\"411.5,-332.5 411.5,-378.5 \" stroke=\"#000000\"/>\n<text fill=\"#000000\" font-family=\"Times,serif\" font-size=\"14.00\" text-anchor=\"middle\" x=\"440.5\" y=\"-363.3\">input:</text>\n<polyline fill=\"none\" points=\"411.5,-355.5 469.5,-355.5 \" stroke=\"#000000\"/>\n<text fill=\"#000000\" font-family=\"Times,serif\" font-size=\"14.00\" text-anchor=\"middle\" x=\"440.5\" y=\"-340.3\">output:</text>\n<polyline fill=\"none\" points=\"469.5,-332.5 469.5,-378.5 \" stroke=\"#000000\"/>\n<text fill=\"#000000\" font-family=\"Times,serif\" font-size=\"14.00\" text-anchor=\"middle\" x=\"524.5\" y=\"-363.3\">(None, 156, 7)</text>\n<polyline fill=\"none\" points=\"469.5,-355.5 579.5,-355.5 \" stroke=\"#000000\"/>\n<text fill=\"#000000\" font-family=\"Times,serif\" font-size=\"14.00\" text-anchor=\"middle\" x=\"524.5\" y=\"-340.3\">(None, 156, 64)</text>\n</g>\n<!-- 139757597341328&#45;&gt;139757660865616 -->\n<g class=\"edge\" id=\"edge2\">\n<title>139757597341328-&gt;139757660865616</title>\n<path d=\"M440.5,-415.3799C440.5,-407.1745 440.5,-397.7679 440.5,-388.8786\" fill=\"none\" stroke=\"#000000\"/>\n<polygon fill=\"#000000\" points=\"444.0001,-388.784 440.5,-378.784 437.0001,-388.784 444.0001,-388.784\" stroke=\"#000000\"/>\n</g>\n<!-- 139757606274192 -->\n<g class=\"node\" id=\"node4\">\n<title>139757606274192</title>\n<polygon fill=\"none\" points=\"221,-249.5 221,-295.5 660,-295.5 660,-249.5 221,-249.5\" stroke=\"#000000\"/>\n<text fill=\"#000000\" font-family=\"Times,serif\" font-size=\"14.00\" text-anchor=\"middle\" x=\"356.5\" y=\"-268.8\">batch_normalization_3: BatchNormalization</text>\n<polyline fill=\"none\" points=\"492,-249.5 492,-295.5 \" stroke=\"#000000\"/>\n<text fill=\"#000000\" font-family=\"Times,serif\" font-size=\"14.00\" text-anchor=\"middle\" x=\"521\" y=\"-280.3\">input:</text>\n<polyline fill=\"none\" points=\"492,-272.5 550,-272.5 \" stroke=\"#000000\"/>\n<text fill=\"#000000\" font-family=\"Times,serif\" font-size=\"14.00\" text-anchor=\"middle\" x=\"521\" y=\"-257.3\">output:</text>\n<polyline fill=\"none\" points=\"550,-249.5 550,-295.5 \" stroke=\"#000000\"/>\n<text fill=\"#000000\" font-family=\"Times,serif\" font-size=\"14.00\" text-anchor=\"middle\" x=\"605\" y=\"-280.3\">(None, 156, 64)</text>\n<polyline fill=\"none\" points=\"550,-272.5 660,-272.5 \" stroke=\"#000000\"/>\n<text fill=\"#000000\" font-family=\"Times,serif\" font-size=\"14.00\" text-anchor=\"middle\" x=\"605\" y=\"-257.3\">(None, 156, 64)</text>\n</g>\n<!-- 139757660865616&#45;&gt;139757606274192 -->\n<g class=\"edge\" id=\"edge3\">\n<title>139757660865616-&gt;139757606274192</title>\n<path d=\"M440.5,-332.3799C440.5,-324.1745 440.5,-314.7679 440.5,-305.8786\" fill=\"none\" stroke=\"#000000\"/>\n<polygon fill=\"#000000\" points=\"444.0001,-305.784 440.5,-295.784 437.0001,-305.784 444.0001,-305.784\" stroke=\"#000000\"/>\n</g>\n<!-- 139756709946128 -->\n<g class=\"node\" id=\"node5\">\n<title>139756709946128</title>\n<polygon fill=\"none\" points=\"153.5,-166.5 153.5,-212.5 431.5,-212.5 431.5,-166.5 153.5,-166.5\" stroke=\"#000000\"/>\n<text fill=\"#000000\" font-family=\"Times,serif\" font-size=\"14.00\" text-anchor=\"middle\" x=\"208.5\" y=\"-185.8\">lstm_13: LSTM</text>\n<polyline fill=\"none\" points=\"263.5,-166.5 263.5,-212.5 \" stroke=\"#000000\"/>\n<text fill=\"#000000\" font-family=\"Times,serif\" font-size=\"14.00\" text-anchor=\"middle\" x=\"292.5\" y=\"-197.3\">input:</text>\n<polyline fill=\"none\" points=\"263.5,-189.5 321.5,-189.5 \" stroke=\"#000000\"/>\n<text fill=\"#000000\" font-family=\"Times,serif\" font-size=\"14.00\" text-anchor=\"middle\" x=\"292.5\" y=\"-174.3\">output:</text>\n<polyline fill=\"none\" points=\"321.5,-166.5 321.5,-212.5 \" stroke=\"#000000\"/>\n<text fill=\"#000000\" font-family=\"Times,serif\" font-size=\"14.00\" text-anchor=\"middle\" x=\"376.5\" y=\"-197.3\">(None, 156, 64)</text>\n<polyline fill=\"none\" points=\"321.5,-189.5 431.5,-189.5 \" stroke=\"#000000\"/>\n<text fill=\"#000000\" font-family=\"Times,serif\" font-size=\"14.00\" text-anchor=\"middle\" x=\"376.5\" y=\"-174.3\">(None, 156, 64)</text>\n</g>\n<!-- 139757606274192&#45;&gt;139756709946128 -->\n<g class=\"edge\" id=\"edge4\">\n<title>139757606274192-&gt;139756709946128</title>\n<path d=\"M399.2737,-249.3799C381.7064,-239.5279 361.051,-227.9442 342.6121,-217.6034\" fill=\"none\" stroke=\"#000000\"/>\n<polygon fill=\"#000000\" points=\"344.1957,-214.4787 333.7616,-212.6399 340.7716,-220.5841 344.1957,-214.4787\" stroke=\"#000000\"/>\n</g>\n<!-- 139756687462992 -->\n<g class=\"node\" id=\"node6\">\n<title>139756687462992</title>\n<polygon fill=\"none\" points=\"485.5,-166.5 485.5,-212.5 763.5,-212.5 763.5,-166.5 485.5,-166.5\" stroke=\"#000000\"/>\n<text fill=\"#000000\" font-family=\"Times,serif\" font-size=\"14.00\" text-anchor=\"middle\" x=\"540.5\" y=\"-185.8\">lstm_14: LSTM</text>\n<polyline fill=\"none\" points=\"595.5,-166.5 595.5,-212.5 \" stroke=\"#000000\"/>\n<text fill=\"#000000\" font-family=\"Times,serif\" font-size=\"14.00\" text-anchor=\"middle\" x=\"624.5\" y=\"-197.3\">input:</text>\n<polyline fill=\"none\" points=\"595.5,-189.5 653.5,-189.5 \" stroke=\"#000000\"/>\n<text fill=\"#000000\" font-family=\"Times,serif\" font-size=\"14.00\" text-anchor=\"middle\" x=\"624.5\" y=\"-174.3\">output:</text>\n<polyline fill=\"none\" points=\"653.5,-166.5 653.5,-212.5 \" stroke=\"#000000\"/>\n<text fill=\"#000000\" font-family=\"Times,serif\" font-size=\"14.00\" text-anchor=\"middle\" x=\"708.5\" y=\"-197.3\">(None, 156, 64)</text>\n<polyline fill=\"none\" points=\"653.5,-189.5 763.5,-189.5 \" stroke=\"#000000\"/>\n<text fill=\"#000000\" font-family=\"Times,serif\" font-size=\"14.00\" text-anchor=\"middle\" x=\"708.5\" y=\"-174.3\">(None, 64)</text>\n</g>\n<!-- 139757606274192&#45;&gt;139756687462992 -->\n<g class=\"edge\" id=\"edge5\">\n<title>139757606274192-&gt;139756687462992</title>\n<path d=\"M491.7543,-249.3799C514.1904,-239.2592 540.678,-227.311 564.0678,-216.7602\" fill=\"none\" stroke=\"#000000\"/>\n<polygon fill=\"#000000\" points=\"565.5255,-219.9423 573.2018,-212.6399 562.6471,-213.5615 565.5255,-219.9423\" stroke=\"#000000\"/>\n</g>\n<!-- 139756687463824 -->\n<g class=\"node\" id=\"node7\">\n<title>139756687463824</title>\n<polygon fill=\"none\" points=\"0,-83.5 0,-129.5 439,-129.5 439,-83.5 0,-83.5\" stroke=\"#000000\"/>\n<text fill=\"#000000\" font-family=\"Times,serif\" font-size=\"14.00\" text-anchor=\"middle\" x=\"135.5\" y=\"-102.8\">batch_normalization_4: BatchNormalization</text>\n<polyline fill=\"none\" points=\"271,-83.5 271,-129.5 \" stroke=\"#000000\"/>\n<text fill=\"#000000\" font-family=\"Times,serif\" font-size=\"14.00\" text-anchor=\"middle\" x=\"300\" y=\"-114.3\">input:</text>\n<polyline fill=\"none\" points=\"271,-106.5 329,-106.5 \" stroke=\"#000000\"/>\n<text fill=\"#000000\" font-family=\"Times,serif\" font-size=\"14.00\" text-anchor=\"middle\" x=\"300\" y=\"-91.3\">output:</text>\n<polyline fill=\"none\" points=\"329,-83.5 329,-129.5 \" stroke=\"#000000\"/>\n<text fill=\"#000000\" font-family=\"Times,serif\" font-size=\"14.00\" text-anchor=\"middle\" x=\"384\" y=\"-114.3\">(None, 156, 64)</text>\n<polyline fill=\"none\" points=\"329,-106.5 439,-106.5 \" stroke=\"#000000\"/>\n<text fill=\"#000000\" font-family=\"Times,serif\" font-size=\"14.00\" text-anchor=\"middle\" x=\"384\" y=\"-91.3\">(None, 156, 64)</text>\n</g>\n<!-- 139756709946128&#45;&gt;139756687463824 -->\n<g class=\"edge\" id=\"edge6\">\n<title>139756709946128-&gt;139756687463824</title>\n<path d=\"M272.1654,-166.3799C264.3212,-157.461 255.2286,-147.1229 246.8289,-137.5725\" fill=\"none\" stroke=\"#000000\"/>\n<polygon fill=\"#000000\" points=\"249.2111,-134.9815 239.9787,-129.784 243.9548,-139.6045 249.2111,-134.9815\" stroke=\"#000000\"/>\n</g>\n<!-- 139756692274576 -->\n<g class=\"node\" id=\"node8\">\n<title>139756692274576</title>\n<polygon fill=\"none\" points=\"457,-83.5 457,-129.5 866,-129.5 866,-83.5 457,-83.5\" stroke=\"#000000\"/>\n<text fill=\"#000000\" font-family=\"Times,serif\" font-size=\"14.00\" text-anchor=\"middle\" x=\"592.5\" y=\"-102.8\">batch_normalization_5: BatchNormalization</text>\n<polyline fill=\"none\" points=\"728,-83.5 728,-129.5 \" stroke=\"#000000\"/>\n<text fill=\"#000000\" font-family=\"Times,serif\" font-size=\"14.00\" text-anchor=\"middle\" x=\"757\" y=\"-114.3\">input:</text>\n<polyline fill=\"none\" points=\"728,-106.5 786,-106.5 \" stroke=\"#000000\"/>\n<text fill=\"#000000\" font-family=\"Times,serif\" font-size=\"14.00\" text-anchor=\"middle\" x=\"757\" y=\"-91.3\">output:</text>\n<polyline fill=\"none\" points=\"786,-83.5 786,-129.5 \" stroke=\"#000000\"/>\n<text fill=\"#000000\" font-family=\"Times,serif\" font-size=\"14.00\" text-anchor=\"middle\" x=\"826\" y=\"-114.3\">(None, 64)</text>\n<polyline fill=\"none\" points=\"786,-106.5 866,-106.5 \" stroke=\"#000000\"/>\n<text fill=\"#000000\" font-family=\"Times,serif\" font-size=\"14.00\" text-anchor=\"middle\" x=\"826\" y=\"-91.3\">(None, 64)</text>\n</g>\n<!-- 139756687462992&#45;&gt;139756692274576 -->\n<g class=\"edge\" id=\"edge7\">\n<title>139756687462992-&gt;139756692274576</title>\n<path d=\"M634.8066,-166.3799C638.5836,-157.907 642.9317,-148.1531 647.0073,-139.0107\" fill=\"none\" stroke=\"#000000\"/>\n<polygon fill=\"#000000\" points=\"650.2455,-140.3427 651.1204,-129.784 643.852,-137.4925 650.2455,-140.3427\" stroke=\"#000000\"/>\n</g>\n<!-- 139756692004176 -->\n<g class=\"node\" id=\"node9\">\n<title>139756692004176</title>\n<polygon fill=\"none\" points=\"75.5,-.5 75.5,-46.5 363.5,-46.5 363.5,-.5 75.5,-.5\" stroke=\"#000000\"/>\n<text fill=\"#000000\" font-family=\"Times,serif\" font-size=\"14.00\" text-anchor=\"middle\" x=\"135.5\" y=\"-19.8\">act_output: Dense</text>\n<polyline fill=\"none\" points=\"195.5,-.5 195.5,-46.5 \" stroke=\"#000000\"/>\n<text fill=\"#000000\" font-family=\"Times,serif\" font-size=\"14.00\" text-anchor=\"middle\" x=\"224.5\" y=\"-31.3\">input:</text>\n<polyline fill=\"none\" points=\"195.5,-23.5 253.5,-23.5 \" stroke=\"#000000\"/>\n<text fill=\"#000000\" font-family=\"Times,serif\" font-size=\"14.00\" text-anchor=\"middle\" x=\"224.5\" y=\"-8.3\">output:</text>\n<polyline fill=\"none\" points=\"253.5,-.5 253.5,-46.5 \" stroke=\"#000000\"/>\n<text fill=\"#000000\" font-family=\"Times,serif\" font-size=\"14.00\" text-anchor=\"middle\" x=\"308.5\" y=\"-31.3\">(None, 156, 64)</text>\n<polyline fill=\"none\" points=\"253.5,-23.5 363.5,-23.5 \" stroke=\"#000000\"/>\n<text fill=\"#000000\" font-family=\"Times,serif\" font-size=\"14.00\" text-anchor=\"middle\" x=\"308.5\" y=\"-8.3\">(None, 156, 7)</text>\n</g>\n<!-- 139756687463824&#45;&gt;139756692004176 -->\n<g class=\"edge\" id=\"edge8\">\n<title>139756687463824-&gt;139756692004176</title>\n<path d=\"M219.5,-83.3799C219.5,-75.1745 219.5,-65.7679 219.5,-56.8786\" fill=\"none\" stroke=\"#000000\"/>\n<polygon fill=\"#000000\" points=\"223.0001,-56.784 219.5,-46.784 216.0001,-56.784 223.0001,-56.784\" stroke=\"#000000\"/>\n</g>\n<!-- 139756692779216 -->\n<g class=\"node\" id=\"node10\">\n<title>139756692779216</title>\n<polygon fill=\"none\" points=\"522,-.5 522,-46.5 801,-46.5 801,-.5 522,-.5\" stroke=\"#000000\"/>\n<text fill=\"#000000\" font-family=\"Times,serif\" font-size=\"14.00\" text-anchor=\"middle\" x=\"592.5\" y=\"-19.8\">binary_output: Dense</text>\n<polyline fill=\"none\" points=\"663,-.5 663,-46.5 \" stroke=\"#000000\"/>\n<text fill=\"#000000\" font-family=\"Times,serif\" font-size=\"14.00\" text-anchor=\"middle\" x=\"692\" y=\"-31.3\">input:</text>\n<polyline fill=\"none\" points=\"663,-23.5 721,-23.5 \" stroke=\"#000000\"/>\n<text fill=\"#000000\" font-family=\"Times,serif\" font-size=\"14.00\" text-anchor=\"middle\" x=\"692\" y=\"-8.3\">output:</text>\n<polyline fill=\"none\" points=\"721,-.5 721,-46.5 \" stroke=\"#000000\"/>\n<text fill=\"#000000\" font-family=\"Times,serif\" font-size=\"14.00\" text-anchor=\"middle\" x=\"761\" y=\"-31.3\">(None, 64)</text>\n<polyline fill=\"none\" points=\"721,-23.5 801,-23.5 \" stroke=\"#000000\"/>\n<text fill=\"#000000\" font-family=\"Times,serif\" font-size=\"14.00\" text-anchor=\"middle\" x=\"761\" y=\"-8.3\">(None, 1)</text>\n</g>\n<!-- 139756692274576&#45;&gt;139756692779216 -->\n<g class=\"edge\" id=\"edge9\">\n<title>139756692274576-&gt;139756692779216</title>\n<path d=\"M661.5,-83.3799C661.5,-75.1745 661.5,-65.7679 661.5,-56.8786\" fill=\"none\" stroke=\"#000000\"/>\n<polygon fill=\"#000000\" points=\"665.0001,-56.784 661.5,-46.784 658.0001,-56.784 665.0001,-56.784\" stroke=\"#000000\"/>\n</g>\n</g>\n</svg>",
            "text/plain": [
              "<IPython.core.display.SVG object>"
            ]
          },
          "metadata": {
            "tags": []
          },
          "execution_count": 54
        }
      ]
    },
    {
      "cell_type": "code",
      "metadata": {
        "id": "bnE-6_8iLhVC"
      },
      "source": [
        "#Fit model\n",
        "batch_size = 64\n",
        "epochs = 5\n",
        "history = model.fit(X_train_new,{'act_output': y_train_new, 'binary_output': y_train_label},\n",
        "                         validation_data = (X_val_new,{'act_output': y_val_new, 'binary_output': y_val_label}),\n",
        "                         verbose=1,\n",
        "                         batch_size=batch_size,\n",
        "                         epochs=epochs)"
      ],
      "execution_count": null,
      "outputs": []
    },
    {
      "cell_type": "code",
      "metadata": {
        "colab": {
          "base_uri": "https://localhost:8080/",
          "height": 295
        },
        "id": "8k4-mFSRhB1o",
        "outputId": "3e201245-f431-4aa2-957c-ac6c7c3b915d"
      },
      "source": [
        "#Plot loss\n",
        "plt.plot(history.history['loss'])\n",
        "plt.plot(history.history['val_loss'])\n",
        "plt.title('LSTM loss')\n",
        "plt.ylabel('loss')\n",
        "plt.xlabel('epoch')\n",
        "plt.legend(['train', 'val'], loc='upper left')\n",
        "plt.show()"
      ],
      "execution_count": null,
      "outputs": [
        {
          "output_type": "display_data",
          "data": {
            "image/png": "[encoded data removed]",
            "text/plain": [
              "<Figure size 432x288 with 1 Axes>"
            ]
          },
          "metadata": {
            "tags": []
          }
        }
      ]
    },
    {
      "cell_type": "code",
      "metadata": {
        "id": "20OCrE_wfXNz"
      },
      "source": [
        "# model predict\n",
        "y_pred_act1, y_pred_binary1 = model.predict(X_test_new)"
      ],
      "execution_count": null,
      "outputs": []
    },
    {
      "cell_type": "code",
      "metadata": {
        "id": "eg7XfCcAWFyL"
      },
      "source": [
        "#save model\n",
        "model.save('vanilla.h5')"
      ],
      "execution_count": null,
      "outputs": []
    },
    {
      "cell_type": "code",
      "metadata": {
        "id": "mKFNPZbFWEou"
      },
      "source": [
        "#load model\n",
        "model = tf.keras.models.load_model('/content/drive/MyDrive/Colab Notebooks/vanilla.h5')"
      ],
      "execution_count": null,
      "outputs": []
    },
    {
      "cell_type": "code",
      "metadata": {
        "colab": {
          "base_uri": "https://localhost:8080/"
        },
        "id": "4hWIAtNEWV_7",
        "outputId": "558f9834-1521-4e85-f024-ca85a8ce69f3"
      },
      "source": [
        "#discriminative report\n",
        "import sklearn\n",
        "print(sklearn.metrics.classification_report(y_test_label, t_y_pred_binary))"
      ],
      "execution_count": null,
      "outputs": [
        {
          "output_type": "stream",
          "text": [
            "              precision    recall  f1-score   support\n",
            "\n",
            "           0       0.62      0.63      0.62      1250\n",
            "           1       0.98      0.98      0.98     29213\n",
            "\n",
            "    accuracy                           0.97     30463\n",
            "   macro avg       0.80      0.81      0.80     30463\n",
            "weighted avg       0.97      0.97      0.97     30463\n",
            "\n"
          ],
          "name": "stdout"
        }
      ]
    },
    {
      "cell_type": "code",
      "metadata": {
        "id": "fWPdu5OZWcvH"
      },
      "source": [
        "# autoregressive report\n",
        "print(sklearn.metrics.classification_report(y_test_new, y_pred_act))"
      ],
      "execution_count": null,
      "outputs": []
    },
    {
      "cell_type": "code",
      "metadata": {
        "colab": {
          "base_uri": "https://localhost:8080/",
          "height": 265
        },
        "id": "JmsnqVoDfxXa",
        "outputId": "b908d95d-0d0f-4665-9817-39b53582ecdf"
      },
      "source": [
        "#Plot probability of exit for one trajectory:\n",
        "def get_x_y(number):\n",
        "  one = []\n",
        "  for item in y_pred_act[number]:\n",
        "    one.append(item[-1])\n",
        "\n",
        "  item = [np.argmax(y, axis=None, out=None) for y in X_test_new[number]]\n",
        "  item = np.ma.masked_equal(item, 0)\n",
        "  item = item.compressed()\n",
        "  lol = []\n",
        "  for e in item:\n",
        "    lol.append(e)\n",
        "  x = []\n",
        "  for i in range(len(lol)):\n",
        "    x.append(i)\n",
        "\n",
        "  y = one[-len(lol):]\n",
        "\n",
        "  return x, y\n",
        "x, y = get_x_y(9877)\n",
        "plt.plot(x, y)\n",
        "plt.show()"
      ],
      "execution_count": null,
      "outputs": [
        {
          "output_type": "display_data",
          "data": {
            "image/png": "[encoded data removed]",
            "text/plain": [
              "<Figure size 432x288 with 1 Axes>"
            ]
          },
          "metadata": {
            "tags": []
          }
        }
      ]
    },
    {
      "cell_type": "code",
      "metadata": {
        "colab": {
          "base_uri": "https://localhost:8080/"
        },
        "id": "_u24pqfUFsv8",
        "outputId": "9a098237-bf8b-43b7-e0ef-96e4a8c6d96c"
      },
      "source": [
        "## Time aware Gen and discriminative LSTM\n",
        "from keras.layers import LSTM, Dense, Masking, Input, BatchNormalization, Lambda\n",
        "from keras import  Model\n",
        "from src import TLSTM_layer\n",
        "\n",
        "main_input = Input(shape = (maxlen - 1, num_classes), name = 'main_input')\n",
        "mask1 = Masking(mask_value = 0, name = 'mask1' )(main_input)\n",
        "# delta_ts: (batch_size, 1)\n",
        "delta_ts = Input(shape=(maxlen -1, ), name='delta_ts')\n",
        "mask2 = Masking(mask_value = -1, name = 'mask2' )(delta_ts)\n",
        "\n",
        "l1 = TLSTM_layer(64, return_sequence = True)(mask1, mask2)\n",
        "\n",
        "# batchnorm shared TLSTM layer output\n",
        "b1 = keras.layers.BatchNormalization()(l1)\n",
        "\n",
        "# the layer specialized in time prediction\n",
        "l2_1 = TLSTM_layer(64, return_sequence = True)(b1, mask2)\n",
        "\n",
        "# batchnorm activity prediction specialized LSTM\n",
        "b2_1 = keras.layers.BatchNormalization()(l2_1)\n",
        "\n",
        "# the layer specialized in binary classification\n",
        "l2_2a = TLSTM_layer(64)(b1, mask2)\n",
        "l2_2 = Lambda(lambda x: x[:, -1, :])(l2_2a)\n",
        "\n",
        "# batchnorm time prediction specialized TLSTM output\n",
        "b2_2 = keras.layers.BatchNormalization()(l2_2)\n",
        "\n",
        "#d2_1 = keras.layers.Dropout(rate=hparams[HP_DROPOUT])(b2_1)\n",
        "#d2_2 = keras.layers.Dropout(rate=hparams[HP_DROPOUT])(b2_2)\n",
        "\n",
        "act_output = Dense(num_classes, activation = 'softmax', name='act_output')(b2_1)\n",
        "binary_output = Dense(1, activation = 'sigmoid', name='binary_output')(b2_2)\n",
        "\n",
        "# define model\n",
        "time_model = Model(inputs=[main_input, delta_ts], outputs=[act_output, binary_output])\n",
        "\n",
        "# compile model\n",
        "time_model.compile(loss={'act_output': 'categorical_crossentropy', 'binary_output': 'binary_crossentropy'},\n",
        "                      optimizer = 'adam', metrics = ['acc'])\n",
        "time_model.summary()\n"
      ],
      "execution_count": null,
      "outputs": [
        {
          "output_type": "stream",
          "text": [
            "Model: \"model_20\"\n",
            "__________________________________________________________________________________________________\n",
            "Layer (type)                    Output Shape         Param #     Connected to                     \n",
            "==================================================================================================\n",
            "main_input (InputLayer)         [(None, 156, 7)]     0                                            \n",
            "__________________________________________________________________________________________________\n",
            "delta_ts (InputLayer)           [(None, 156)]        0                                            \n",
            "__________________________________________________________________________________________________\n",
            "mask1 (Masking)                 (None, 156, 7)       0           main_input[0][0]                 \n",
            "__________________________________________________________________________________________________\n",
            "mask2 (Masking)                 (None, 156)          0           delta_ts[0][0]                   \n",
            "__________________________________________________________________________________________________\n",
            "tlstm_layer_31 (TLSTM_layer)    (None, 156, 64)      22592       mask1[0][0]                      \n",
            "                                                                 mask2[0][0]                      \n",
            "__________________________________________________________________________________________________\n",
            "batch_normalization_3 (BatchNor (None, 156, 64)      256         tlstm_layer_31[0][0]             \n",
            "__________________________________________________________________________________________________\n",
            "tlstm_layer_33 (TLSTM_layer)    (None, 156, 64)      37184       batch_normalization_3[0][0]      \n",
            "                                                                 mask2[0][0]                      \n",
            "__________________________________________________________________________________________________\n",
            "tlstm_layer_32 (TLSTM_layer)    (None, 156, 64)      37184       batch_normalization_3[0][0]      \n",
            "                                                                 mask2[0][0]                      \n",
            "__________________________________________________________________________________________________\n",
            "lambda_2 (Lambda)               (None, 64)           0           tlstm_layer_33[0][0]             \n",
            "__________________________________________________________________________________________________\n",
            "batch_normalization_4 (BatchNor (None, 156, 64)      256         tlstm_layer_32[0][0]             \n",
            "__________________________________________________________________________________________________\n",
            "batch_normalization_5 (BatchNor (None, 64)           256         lambda_2[0][0]                   \n",
            "__________________________________________________________________________________________________\n",
            "act_output (Dense)              (None, 156, 7)       455         batch_normalization_4[0][0]      \n",
            "__________________________________________________________________________________________________\n",
            "binary_output (Dense)           (None, 1)            65          batch_normalization_5[0][0]      \n",
            "==================================================================================================\n",
            "Total params: 98,248\n",
            "Trainable params: 97,864\n",
            "Non-trainable params: 384\n",
            "__________________________________________________________________________________________________\n"
          ],
          "name": "stdout"
        }
      ]
    },
    {
      "cell_type": "code",
      "metadata": {
        "colab": {
          "base_uri": "https://localhost:8080/",
          "height": 806
        },
        "id": "NouKER8zJa7U",
        "outputId": "bb43ba40-17e5-40bc-e4a3-54486f181cbf"
      },
      "source": [
        "from IPython.display       import SVG\n",
        "from keras.utils.vis_utils import model_to_dot\n",
        "\n",
        "SVG(model_to_dot(time_model, show_shapes = True, show_layer_names = True, dpi=65).create(prog='dot', format='svg'))"
      ],
      "execution_count": null,
      "outputs": [
        {
          "output_type": "execute_result",
          "data": {
            "text/plain": [
              "<IPython.core.display.SVG object>"
            ],
            "image/svg+xml": "<svg height=\"574pt\" viewBox=\"0.00 0.00 869.00 636.00\" width=\"785pt\" xmlns=\"http://www.w3.org/2000/svg\" xmlns:xlink=\"http://www.w3.org/1999/xlink\">\n<g class=\"graph\" id=\"graph0\" transform=\"scale(.9028 .9028) rotate(0) translate(4 632)\">\n<title>G</title>\n<polygon fill=\"#ffffff\" points=\"-4,4 -4,-632 865,-632 865,4 -4,4\" stroke=\"transparent\"/>\n<!-- 140701300897104 -->\n<g class=\"node\" id=\"node1\">\n<title>140701300897104</title>\n<polygon fill=\"none\" points=\"235,-581.5 235,-627.5 558,-627.5 558,-581.5 235,-581.5\" stroke=\"#000000\"/>\n<text fill=\"#000000\" font-family=\"Times,serif\" font-size=\"14.00\" text-anchor=\"middle\" x=\"312\" y=\"-600.8\">main_input: InputLayer</text>\n<polyline fill=\"none\" points=\"389,-581.5 389,-627.5 \" stroke=\"#000000\"/>\n<text fill=\"#000000\" font-family=\"Times,serif\" font-size=\"14.00\" text-anchor=\"middle\" x=\"418\" y=\"-612.3\">input:</text>\n<polyline fill=\"none\" points=\"389,-604.5 447,-604.5 \" stroke=\"#000000\"/>\n<text fill=\"#000000\" font-family=\"Times,serif\" font-size=\"14.00\" text-anchor=\"middle\" x=\"418\" y=\"-589.3\">output:</text>\n<polyline fill=\"none\" points=\"447,-581.5 447,-627.5 \" stroke=\"#000000\"/>\n<text fill=\"#000000\" font-family=\"Times,serif\" font-size=\"14.00\" text-anchor=\"middle\" x=\"502.5\" y=\"-612.3\">[(None, 156, 7)]</text>\n<polyline fill=\"none\" points=\"447,-604.5 558,-604.5 \" stroke=\"#000000\"/>\n<text fill=\"#000000\" font-family=\"Times,serif\" font-size=\"14.00\" text-anchor=\"middle\" x=\"502.5\" y=\"-589.3\">[(None, 156, 7)]</text>\n</g>\n<!-- 140701300897872 -->\n<g class=\"node\" id=\"node3\">\n<title>140701300897872</title>\n<polygon fill=\"none\" points=\"260.5,-498.5 260.5,-544.5 532.5,-544.5 532.5,-498.5 260.5,-498.5\" stroke=\"#000000\"/>\n<text fill=\"#000000\" font-family=\"Times,serif\" font-size=\"14.00\" text-anchor=\"middle\" x=\"316.5\" y=\"-517.8\">mask1: Masking</text>\n<polyline fill=\"none\" points=\"372.5,-498.5 372.5,-544.5 \" stroke=\"#000000\"/>\n<text fill=\"#000000\" font-family=\"Times,serif\" font-size=\"14.00\" text-anchor=\"middle\" x=\"401.5\" y=\"-529.3\">input:</text>\n<polyline fill=\"none\" points=\"372.5,-521.5 430.5,-521.5 \" stroke=\"#000000\"/>\n<text fill=\"#000000\" font-family=\"Times,serif\" font-size=\"14.00\" text-anchor=\"middle\" x=\"401.5\" y=\"-506.3\">output:</text>\n<polyline fill=\"none\" points=\"430.5,-498.5 430.5,-544.5 \" stroke=\"#000000\"/>\n<text fill=\"#000000\" font-family=\"Times,serif\" font-size=\"14.00\" text-anchor=\"middle\" x=\"481.5\" y=\"-529.3\">(None, 156, 7)</text>\n<polyline fill=\"none\" points=\"430.5,-521.5 532.5,-521.5 \" stroke=\"#000000\"/>\n<text fill=\"#000000\" font-family=\"Times,serif\" font-size=\"14.00\" text-anchor=\"middle\" x=\"481.5\" y=\"-506.3\">(None, 156, 7)</text>\n</g>\n<!-- 140701300897104&#45;&gt;140701300897872 -->\n<g class=\"edge\" id=\"edge1\">\n<title>140701300897104-&gt;140701300897872</title>\n<path d=\"M396.5,-581.3799C396.5,-573.1745 396.5,-563.7679 396.5,-554.8786\" fill=\"none\" stroke=\"#000000\"/>\n<polygon fill=\"#000000\" points=\"400.0001,-554.784 396.5,-544.784 393.0001,-554.784 400.0001,-554.784\" stroke=\"#000000\"/>\n</g>\n<!-- 140701300845264 -->\n<g class=\"node\" id=\"node2\">\n<title>140701300845264</title>\n<polygon fill=\"none\" points=\"576,-581.5 576,-627.5 861,-627.5 861,-581.5 576,-581.5\" stroke=\"#000000\"/>\n<text fill=\"#000000\" font-family=\"Times,serif\" font-size=\"14.00\" text-anchor=\"middle\" x=\"641.5\" y=\"-600.8\">delta_ts: InputLayer</text>\n<polyline fill=\"none\" points=\"707,-581.5 707,-627.5 \" stroke=\"#000000\"/>\n<text fill=\"#000000\" font-family=\"Times,serif\" font-size=\"14.00\" text-anchor=\"middle\" x=\"736\" y=\"-612.3\">input:</text>\n<polyline fill=\"none\" points=\"707,-604.5 765,-604.5 \" stroke=\"#000000\"/>\n<text fill=\"#000000\" font-family=\"Times,serif\" font-size=\"14.00\" text-anchor=\"middle\" x=\"736\" y=\"-589.3\">output:</text>\n<polyline fill=\"none\" points=\"765,-581.5 765,-627.5 \" stroke=\"#000000\"/>\n<text fill=\"#000000\" font-family=\"Times,serif\" font-size=\"14.00\" text-anchor=\"middle\" x=\"813\" y=\"-612.3\">[(None, 156)]</text>\n<polyline fill=\"none\" points=\"765,-604.5 861,-604.5 \" stroke=\"#000000\"/>\n<text fill=\"#000000\" font-family=\"Times,serif\" font-size=\"14.00\" text-anchor=\"middle\" x=\"813\" y=\"-589.3\">[(None, 156)]</text>\n</g>\n<!-- 140701300898832 -->\n<g class=\"node\" id=\"node4\">\n<title>140701300898832</title>\n<polygon fill=\"none\" points=\"590,-498.5 590,-544.5 847,-544.5 847,-498.5 590,-498.5\" stroke=\"#000000\"/>\n<text fill=\"#000000\" font-family=\"Times,serif\" font-size=\"14.00\" text-anchor=\"middle\" x=\"646\" y=\"-517.8\">mask2: Masking</text>\n<polyline fill=\"none\" points=\"702,-498.5 702,-544.5 \" stroke=\"#000000\"/>\n<text fill=\"#000000\" font-family=\"Times,serif\" font-size=\"14.00\" text-anchor=\"middle\" x=\"731\" y=\"-529.3\">input:</text>\n<polyline fill=\"none\" points=\"702,-521.5 760,-521.5 \" stroke=\"#000000\"/>\n<text fill=\"#000000\" font-family=\"Times,serif\" font-size=\"14.00\" text-anchor=\"middle\" x=\"731\" y=\"-506.3\">output:</text>\n<polyline fill=\"none\" points=\"760,-498.5 760,-544.5 \" stroke=\"#000000\"/>\n<text fill=\"#000000\" font-family=\"Times,serif\" font-size=\"14.00\" text-anchor=\"middle\" x=\"803.5\" y=\"-529.3\">(None, 156)</text>\n<polyline fill=\"none\" points=\"760,-521.5 847,-521.5 \" stroke=\"#000000\"/>\n<text fill=\"#000000\" font-family=\"Times,serif\" font-size=\"14.00\" text-anchor=\"middle\" x=\"803.5\" y=\"-506.3\">(None, 156)</text>\n</g>\n<!-- 140701300845264&#45;&gt;140701300898832 -->\n<g class=\"edge\" id=\"edge2\">\n<title>140701300845264-&gt;140701300898832</title>\n<path d=\"M718.5,-581.3799C718.5,-573.1745 718.5,-563.7679 718.5,-554.8786\" fill=\"none\" stroke=\"#000000\"/>\n<polygon fill=\"#000000\" points=\"722.0001,-554.784 718.5,-544.784 715.0001,-554.784 722.0001,-554.784\" stroke=\"#000000\"/>\n</g>\n<!-- 140701293355792 -->\n<g class=\"node\" id=\"node5\">\n<title>140701293355792</title>\n<polygon fill=\"none\" points=\"216,-415.5 216,-461.5 577,-461.5 577,-415.5 216,-415.5\" stroke=\"#000000\"/>\n<text fill=\"#000000\" font-family=\"Times,serif\" font-size=\"14.00\" text-anchor=\"middle\" x=\"312.5\" y=\"-434.8\">tlstm_layer_28: TLSTM_layer</text>\n<polyline fill=\"none\" points=\"409,-415.5 409,-461.5 \" stroke=\"#000000\"/>\n<text fill=\"#000000\" font-family=\"Times,serif\" font-size=\"14.00\" text-anchor=\"middle\" x=\"438\" y=\"-446.3\">input:</text>\n<polyline fill=\"none\" points=\"409,-438.5 467,-438.5 \" stroke=\"#000000\"/>\n<text fill=\"#000000\" font-family=\"Times,serif\" font-size=\"14.00\" text-anchor=\"middle\" x=\"438\" y=\"-423.3\">output:</text>\n<polyline fill=\"none\" points=\"467,-415.5 467,-461.5 \" stroke=\"#000000\"/>\n<text fill=\"#000000\" font-family=\"Times,serif\" font-size=\"14.00\" text-anchor=\"middle\" x=\"522\" y=\"-446.3\">(None, 156, 7)</text>\n<polyline fill=\"none\" points=\"467,-438.5 577,-438.5 \" stroke=\"#000000\"/>\n<text fill=\"#000000\" font-family=\"Times,serif\" font-size=\"14.00\" text-anchor=\"middle\" x=\"522\" y=\"-423.3\">(None, 156, 64)</text>\n</g>\n<!-- 140701300897872&#45;&gt;140701293355792 -->\n<g class=\"edge\" id=\"edge3\">\n<title>140701300897872-&gt;140701293355792</title>\n<path d=\"M396.5,-498.3799C396.5,-490.1745 396.5,-480.7679 396.5,-471.8786\" fill=\"none\" stroke=\"#000000\"/>\n<polygon fill=\"#000000\" points=\"400.0001,-471.784 396.5,-461.784 393.0001,-471.784 400.0001,-471.784\" stroke=\"#000000\"/>\n</g>\n<!-- 140701253929808 -->\n<g class=\"node\" id=\"node6\">\n<title>140701253929808</title>\n<polygon fill=\"none\" points=\"184.5,-332.5 184.5,-378.5 608.5,-378.5 608.5,-332.5 184.5,-332.5\" stroke=\"#000000\"/>\n<text fill=\"#000000\" font-family=\"Times,serif\" font-size=\"14.00\" text-anchor=\"middle\" x=\"312.5\" y=\"-351.8\">batch_normalization: BatchNormalization</text>\n<polyline fill=\"none\" points=\"440.5,-332.5 440.5,-378.5 \" stroke=\"#000000\"/>\n<text fill=\"#000000\" font-family=\"Times,serif\" font-size=\"14.00\" text-anchor=\"middle\" x=\"469.5\" y=\"-363.3\">input:</text>\n<polyline fill=\"none\" points=\"440.5,-355.5 498.5,-355.5 \" stroke=\"#000000\"/>\n<text fill=\"#000000\" font-family=\"Times,serif\" font-size=\"14.00\" text-anchor=\"middle\" x=\"469.5\" y=\"-340.3\">output:</text>\n<polyline fill=\"none\" points=\"498.5,-332.5 498.5,-378.5 \" stroke=\"#000000\"/>\n<text fill=\"#000000\" font-family=\"Times,serif\" font-size=\"14.00\" text-anchor=\"middle\" x=\"553.5\" y=\"-363.3\">(None, 156, 64)</text>\n<polyline fill=\"none\" points=\"498.5,-355.5 608.5,-355.5 \" stroke=\"#000000\"/>\n<text fill=\"#000000\" font-family=\"Times,serif\" font-size=\"14.00\" text-anchor=\"middle\" x=\"553.5\" y=\"-340.3\">(None, 156, 64)</text>\n</g>\n<!-- 140701293355792&#45;&gt;140701253929808 -->\n<g class=\"edge\" id=\"edge4\">\n<title>140701293355792-&gt;140701253929808</title>\n<path d=\"M396.5,-415.3799C396.5,-407.1745 396.5,-397.7679 396.5,-388.8786\" fill=\"none\" stroke=\"#000000\"/>\n<polygon fill=\"#000000\" points=\"400.0001,-388.784 396.5,-378.784 393.0001,-388.784 400.0001,-388.784\" stroke=\"#000000\"/>\n</g>\n<!-- 140701543412944 -->\n<g class=\"node\" id=\"node7\">\n<title>140701543412944</title>\n<polygon fill=\"none\" points=\"27,-249.5 27,-295.5 388,-295.5 388,-249.5 27,-249.5\" stroke=\"#000000\"/>\n<text fill=\"#000000\" font-family=\"Times,serif\" font-size=\"14.00\" text-anchor=\"middle\" x=\"123.5\" y=\"-268.8\">tlstm_layer_30: TLSTM_layer</text>\n<polyline fill=\"none\" points=\"220,-249.5 220,-295.5 \" stroke=\"#000000\"/>\n<text fill=\"#000000\" font-family=\"Times,serif\" font-size=\"14.00\" text-anchor=\"middle\" x=\"249\" y=\"-280.3\">input:</text>\n<polyline fill=\"none\" points=\"220,-272.5 278,-272.5 \" stroke=\"#000000\"/>\n<text fill=\"#000000\" font-family=\"Times,serif\" font-size=\"14.00\" text-anchor=\"middle\" x=\"249\" y=\"-257.3\">output:</text>\n<polyline fill=\"none\" points=\"278,-249.5 278,-295.5 \" stroke=\"#000000\"/>\n<text fill=\"#000000\" font-family=\"Times,serif\" font-size=\"14.00\" text-anchor=\"middle\" x=\"333\" y=\"-280.3\">(None, 156, 64)</text>\n<polyline fill=\"none\" points=\"278,-272.5 388,-272.5 \" stroke=\"#000000\"/>\n<text fill=\"#000000\" font-family=\"Times,serif\" font-size=\"14.00\" text-anchor=\"middle\" x=\"333\" y=\"-257.3\">(None, 156, 64)</text>\n</g>\n<!-- 140701253929808&#45;&gt;140701543412944 -->\n<g class=\"edge\" id=\"edge5\">\n<title>140701253929808-&gt;140701543412944</title>\n<path d=\"M344.104,-332.4901C320.9576,-322.3253 293.5752,-310.3002 269.4264,-299.6952\" fill=\"none\" stroke=\"#000000\"/>\n<polygon fill=\"#000000\" points=\"270.5613,-296.371 259.998,-295.5547 267.7467,-302.7802 270.5613,-296.371\" stroke=\"#000000\"/>\n</g>\n<!-- 140701294216080 -->\n<g class=\"node\" id=\"node8\">\n<title>140701294216080</title>\n<polygon fill=\"none\" points=\"408,-249.5 408,-295.5 769,-295.5 769,-249.5 408,-249.5\" stroke=\"#000000\"/>\n<text fill=\"#000000\" font-family=\"Times,serif\" font-size=\"14.00\" text-anchor=\"middle\" x=\"504.5\" y=\"-268.8\">tlstm_layer_29: TLSTM_layer</text>\n<polyline fill=\"none\" points=\"601,-249.5 601,-295.5 \" stroke=\"#000000\"/>\n<text fill=\"#000000\" font-family=\"Times,serif\" font-size=\"14.00\" text-anchor=\"middle\" x=\"630\" y=\"-280.3\">input:</text>\n<polyline fill=\"none\" points=\"601,-272.5 659,-272.5 \" stroke=\"#000000\"/>\n<text fill=\"#000000\" font-family=\"Times,serif\" font-size=\"14.00\" text-anchor=\"middle\" x=\"630\" y=\"-257.3\">output:</text>\n<polyline fill=\"none\" points=\"659,-249.5 659,-295.5 \" stroke=\"#000000\"/>\n<text fill=\"#000000\" font-family=\"Times,serif\" font-size=\"14.00\" text-anchor=\"middle\" x=\"714\" y=\"-280.3\">(None, 156, 64)</text>\n<polyline fill=\"none\" points=\"659,-272.5 769,-272.5 \" stroke=\"#000000\"/>\n<text fill=\"#000000\" font-family=\"Times,serif\" font-size=\"14.00\" text-anchor=\"middle\" x=\"714\" y=\"-257.3\">(None, 156, 64)</text>\n</g>\n<!-- 140701253929808&#45;&gt;140701294216080 -->\n<g class=\"edge\" id=\"edge6\">\n<title>140701253929808-&gt;140701294216080</title>\n<path d=\"M449.7277,-332.4901C473.3455,-322.2803 501.3048,-310.1938 525.9161,-299.5545\" fill=\"none\" stroke=\"#000000\"/>\n<polygon fill=\"#000000\" points=\"527.3785,-302.7354 535.1687,-295.5547 524.6008,-296.3101 527.3785,-302.7354\" stroke=\"#000000\"/>\n</g>\n<!-- 140701578328976 -->\n<g class=\"node\" id=\"node9\">\n<title>140701578328976</title>\n<polygon fill=\"none\" points=\"56.5,-166.5 56.5,-212.5 352.5,-212.5 352.5,-166.5 56.5,-166.5\" stroke=\"#000000\"/>\n<text fill=\"#000000\" font-family=\"Times,serif\" font-size=\"14.00\" text-anchor=\"middle\" x=\"120.5\" y=\"-185.8\">lambda_1: Lambda</text>\n<polyline fill=\"none\" points=\"184.5,-166.5 184.5,-212.5 \" stroke=\"#000000\"/>\n<text fill=\"#000000\" font-family=\"Times,serif\" font-size=\"14.00\" text-anchor=\"middle\" x=\"213.5\" y=\"-197.3\">input:</text>\n<polyline fill=\"none\" points=\"184.5,-189.5 242.5,-189.5 \" stroke=\"#000000\"/>\n<text fill=\"#000000\" font-family=\"Times,serif\" font-size=\"14.00\" text-anchor=\"middle\" x=\"213.5\" y=\"-174.3\">output:</text>\n<polyline fill=\"none\" points=\"242.5,-166.5 242.5,-212.5 \" stroke=\"#000000\"/>\n<text fill=\"#000000\" font-family=\"Times,serif\" font-size=\"14.00\" text-anchor=\"middle\" x=\"297.5\" y=\"-197.3\">(None, 156, 64)</text>\n<polyline fill=\"none\" points=\"242.5,-189.5 352.5,-189.5 \" stroke=\"#000000\"/>\n<text fill=\"#000000\" font-family=\"Times,serif\" font-size=\"14.00\" text-anchor=\"middle\" x=\"297.5\" y=\"-174.3\">(None, 64)</text>\n</g>\n<!-- 140701543412944&#45;&gt;140701578328976 -->\n<g class=\"edge\" id=\"edge7\">\n<title>140701543412944-&gt;140701578328976</title>\n<path d=\"M206.6643,-249.3799C206.3678,-241.1745 206.0278,-231.7679 205.7065,-222.8786\" fill=\"none\" stroke=\"#000000\"/>\n<polygon fill=\"#000000\" points=\"209.2006,-222.651 205.3416,-212.784 202.2052,-222.9039 209.2006,-222.651\" stroke=\"#000000\"/>\n</g>\n<!-- 140701294218832 -->\n<g class=\"node\" id=\"node10\">\n<title>140701294218832</title>\n<polygon fill=\"none\" points=\"371,-166.5 371,-212.5 810,-212.5 810,-166.5 371,-166.5\" stroke=\"#000000\"/>\n<text fill=\"#000000\" font-family=\"Times,serif\" font-size=\"14.00\" text-anchor=\"middle\" x=\"506.5\" y=\"-185.8\">batch_normalization_1: BatchNormalization</text>\n<polyline fill=\"none\" points=\"642,-166.5 642,-212.5 \" stroke=\"#000000\"/>\n<text fill=\"#000000\" font-family=\"Times,serif\" font-size=\"14.00\" text-anchor=\"middle\" x=\"671\" y=\"-197.3\">input:</text>\n<polyline fill=\"none\" points=\"642,-189.5 700,-189.5 \" stroke=\"#000000\"/>\n<text fill=\"#000000\" font-family=\"Times,serif\" font-size=\"14.00\" text-anchor=\"middle\" x=\"671\" y=\"-174.3\">output:</text>\n<polyline fill=\"none\" points=\"700,-166.5 700,-212.5 \" stroke=\"#000000\"/>\n<text fill=\"#000000\" font-family=\"Times,serif\" font-size=\"14.00\" text-anchor=\"middle\" x=\"755\" y=\"-197.3\">(None, 156, 64)</text>\n<polyline fill=\"none\" points=\"700,-189.5 810,-189.5 \" stroke=\"#000000\"/>\n<text fill=\"#000000\" font-family=\"Times,serif\" font-size=\"14.00\" text-anchor=\"middle\" x=\"755\" y=\"-174.3\">(None, 156, 64)</text>\n</g>\n<!-- 140701294216080&#45;&gt;140701294218832 -->\n<g class=\"edge\" id=\"edge8\">\n<title>140701294216080-&gt;140701294218832</title>\n<path d=\"M589.0571,-249.3799C589.2548,-241.1745 589.4815,-231.7679 589.6957,-222.8786\" fill=\"none\" stroke=\"#000000\"/>\n<polygon fill=\"#000000\" points=\"593.1969,-222.8655 589.9389,-212.784 586.199,-222.6968 593.1969,-222.8655\" stroke=\"#000000\"/>\n</g>\n<!-- 140701458961168 -->\n<g class=\"node\" id=\"node11\">\n<title>140701458961168</title>\n<polygon fill=\"none\" points=\"0,-83.5 0,-129.5 409,-129.5 409,-83.5 0,-83.5\" stroke=\"#000000\"/>\n<text fill=\"#000000\" font-family=\"Times,serif\" font-size=\"14.00\" text-anchor=\"middle\" x=\"135.5\" y=\"-102.8\">batch_normalization_2: BatchNormalization</text>\n<polyline fill=\"none\" points=\"271,-83.5 271,-129.5 \" stroke=\"#000000\"/>\n<text fill=\"#000000\" font-family=\"Times,serif\" font-size=\"14.00\" text-anchor=\"middle\" x=\"300\" y=\"-114.3\">input:</text>\n<polyline fill=\"none\" points=\"271,-106.5 329,-106.5 \" stroke=\"#000000\"/>\n<text fill=\"#000000\" font-family=\"Times,serif\" font-size=\"14.00\" text-anchor=\"middle\" x=\"300\" y=\"-91.3\">output:</text>\n<polyline fill=\"none\" points=\"329,-83.5 329,-129.5 \" stroke=\"#000000\"/>\n<text fill=\"#000000\" font-family=\"Times,serif\" font-size=\"14.00\" text-anchor=\"middle\" x=\"369\" y=\"-114.3\">(None, 64)</text>\n<polyline fill=\"none\" points=\"329,-106.5 409,-106.5 \" stroke=\"#000000\"/>\n<text fill=\"#000000\" font-family=\"Times,serif\" font-size=\"14.00\" text-anchor=\"middle\" x=\"369\" y=\"-91.3\">(None, 64)</text>\n</g>\n<!-- 140701578328976&#45;&gt;140701458961168 -->\n<g class=\"edge\" id=\"edge9\">\n<title>140701578328976-&gt;140701458961168</title>\n<path d=\"M204.5,-166.3799C204.5,-158.1745 204.5,-148.7679 204.5,-139.8786\" fill=\"none\" stroke=\"#000000\"/>\n<polygon fill=\"#000000\" points=\"208.0001,-139.784 204.5,-129.784 201.0001,-139.784 208.0001,-139.784\" stroke=\"#000000\"/>\n</g>\n<!-- 140701578341776 -->\n<g class=\"node\" id=\"node12\">\n<title>140701578341776</title>\n<polygon fill=\"none\" points=\"446.5,-83.5 446.5,-129.5 734.5,-129.5 734.5,-83.5 446.5,-83.5\" stroke=\"#000000\"/>\n<text fill=\"#000000\" font-family=\"Times,serif\" font-size=\"14.00\" text-anchor=\"middle\" x=\"506.5\" y=\"-102.8\">act_output: Dense</text>\n<polyline fill=\"none\" points=\"566.5,-83.5 566.5,-129.5 \" stroke=\"#000000\"/>\n<text fill=\"#000000\" font-family=\"Times,serif\" font-size=\"14.00\" text-anchor=\"middle\" x=\"595.5\" y=\"-114.3\">input:</text>\n<polyline fill=\"none\" points=\"566.5,-106.5 624.5,-106.5 \" stroke=\"#000000\"/>\n<text fill=\"#000000\" font-family=\"Times,serif\" font-size=\"14.00\" text-anchor=\"middle\" x=\"595.5\" y=\"-91.3\">output:</text>\n<polyline fill=\"none\" points=\"624.5,-83.5 624.5,-129.5 \" stroke=\"#000000\"/>\n<text fill=\"#000000\" font-family=\"Times,serif\" font-size=\"14.00\" text-anchor=\"middle\" x=\"679.5\" y=\"-114.3\">(None, 156, 64)</text>\n<polyline fill=\"none\" points=\"624.5,-106.5 734.5,-106.5 \" stroke=\"#000000\"/>\n<text fill=\"#000000\" font-family=\"Times,serif\" font-size=\"14.00\" text-anchor=\"middle\" x=\"679.5\" y=\"-91.3\">(None, 156, 7)</text>\n</g>\n<!-- 140701294218832&#45;&gt;140701578341776 -->\n<g class=\"edge\" id=\"edge10\">\n<title>140701294218832-&gt;140701578341776</title>\n<path d=\"M590.5,-166.3799C590.5,-158.1745 590.5,-148.7679 590.5,-139.8786\" fill=\"none\" stroke=\"#000000\"/>\n<polygon fill=\"#000000\" points=\"594.0001,-139.784 590.5,-129.784 587.0001,-139.784 594.0001,-139.784\" stroke=\"#000000\"/>\n</g>\n<!-- 140701381518352 -->\n<g class=\"node\" id=\"node13\">\n<title>140701381518352</title>\n<polygon fill=\"none\" points=\"65,-.5 65,-46.5 344,-46.5 344,-.5 65,-.5\" stroke=\"#000000\"/>\n<text fill=\"#000000\" font-family=\"Times,serif\" font-size=\"14.00\" text-anchor=\"middle\" x=\"135.5\" y=\"-19.8\">binary_output: Dense</text>\n<polyline fill=\"none\" points=\"206,-.5 206,-46.5 \" stroke=\"#000000\"/>\n<text fill=\"#000000\" font-family=\"Times,serif\" font-size=\"14.00\" text-anchor=\"middle\" x=\"235\" y=\"-31.3\">input:</text>\n<polyline fill=\"none\" points=\"206,-23.5 264,-23.5 \" stroke=\"#000000\"/>\n<text fill=\"#000000\" font-family=\"Times,serif\" font-size=\"14.00\" text-anchor=\"middle\" x=\"235\" y=\"-8.3\">output:</text>\n<polyline fill=\"none\" points=\"264,-.5 264,-46.5 \" stroke=\"#000000\"/>\n<text fill=\"#000000\" font-family=\"Times,serif\" font-size=\"14.00\" text-anchor=\"middle\" x=\"304\" y=\"-31.3\">(None, 64)</text>\n<polyline fill=\"none\" points=\"264,-23.5 344,-23.5 \" stroke=\"#000000\"/>\n<text fill=\"#000000\" font-family=\"Times,serif\" font-size=\"14.00\" text-anchor=\"middle\" x=\"304\" y=\"-8.3\">(None, 2)</text>\n</g>\n<!-- 140701458961168&#45;&gt;140701381518352 -->\n<g class=\"edge\" id=\"edge11\">\n<title>140701458961168-&gt;140701381518352</title>\n<path d=\"M204.5,-83.3799C204.5,-75.1745 204.5,-65.7679 204.5,-56.8786\" fill=\"none\" stroke=\"#000000\"/>\n<polygon fill=\"#000000\" points=\"208.0001,-56.784 204.5,-46.784 201.0001,-56.784 208.0001,-56.784\" stroke=\"#000000\"/>\n</g>\n</g>\n</svg>"
          },
          "metadata": {
            "tags": []
          },
          "execution_count": 72
        }
      ]
    },
    {
      "cell_type": "code",
      "metadata": {
        "colab": {
          "base_uri": "https://localhost:8080/"
        },
        "id": "dFvAVb38JxGl",
        "outputId": "76ba9f8f-d65a-42a2-a80e-890b081a1c68"
      },
      "source": [
        "#fit time model\n",
        "batch_size = 64,\n",
        "epochs = 5\n",
        "history_time = time_model.fit([X_train_new, X_train_delta],\n",
        "                          [y_train_new, y_train_label],\n",
        "                         validation_data = ([X_val_new, X_val_delta],\n",
        "                                             [y_val_new, y_val_label]),\n",
        "                         verbose = 1,\n",
        "                         batch_size = 64,\n",
        "                         epochs = epochs)"
      ],
      "execution_count": null,
      "outputs": [
        {
          "output_type": "stream",
          "text": [
            "Epoch 1/5\n",
            "2222/2222 [==============================] - 1017s 453ms/step - loss: 0.3261 - act_output_loss: 0.1173 - binary_output_loss: 0.2088 - act_output_acc: 0.6872 - binary_output_acc: 0.9275 - val_loss: 0.1861 - val_act_output_loss: 0.1013 - val_binary_output_loss: 0.0848 - val_act_output_acc: 0.7290 - val_binary_output_acc: 0.9648\n",
            "Epoch 2/5\n",
            "2222/2222 [==============================] - 1018s 458ms/step - loss: 0.1865 - act_output_loss: 0.1010 - binary_output_loss: 0.0855 - act_output_acc: 0.7263 - binary_output_acc: 0.9642 - val_loss: 0.1940 - val_act_output_loss: 0.1008 - val_binary_output_loss: 0.0932 - val_act_output_acc: 0.7292 - val_binary_output_acc: 0.9617\n",
            "Epoch 3/5\n",
            "2222/2222 [==============================] - 1023s 460ms/step - loss: 0.1842 - act_output_loss: 0.0998 - binary_output_loss: 0.0845 - act_output_acc: 0.7281 - binary_output_acc: 0.9640 - val_loss: 0.1808 - val_act_output_loss: 0.1000 - val_binary_output_loss: 0.0809 - val_act_output_acc: 0.7300 - val_binary_output_acc: 0.9644\n",
            "Epoch 4/5\n",
            "2222/2222 [==============================] - 1034s 465ms/step - loss: 0.1773 - act_output_loss: 0.0954 - binary_output_loss: 0.0819 - act_output_acc: 0.7290 - binary_output_acc: 0.9635 - val_loss: 0.1868 - val_act_output_loss: 0.1060 - val_binary_output_loss: 0.0808 - val_act_output_acc: 0.7301 - val_binary_output_acc: 0.9661\n",
            "Epoch 5/5\n",
            "2222/2222 [==============================] - 1008s 454ms/step - loss: 0.1674 - act_output_loss: 0.0872 - binary_output_loss: 0.0802 - act_output_acc: 0.7436 - binary_output_acc: 0.9644 - val_loss: 0.1817 - val_act_output_loss: 0.1007 - val_binary_output_loss: 0.0810 - val_act_output_acc: 0.7305 - val_binary_output_acc: 0.9649\n"
          ],
          "name": "stdout"
        }
      ]
    },
    {
      "cell_type": "code",
      "metadata": {
        "colab": {
          "base_uri": "https://localhost:8080/",
          "height": 295
        },
        "id": "2F-1RjCIWZXs",
        "outputId": "2a30e9ef-0542-4ddd-de65-5bab4933dd7a"
      },
      "source": [
        "#Plot loss\n",
        "plt.plot(history_time.history['loss'])\n",
        "plt.plot(history_time.history['val_loss'])\n",
        "plt.title('LSTM loss')\n",
        "plt.ylabel('loss')\n",
        "plt.xlabel('epoch')\n",
        "plt.legend(['train', 'val'], loc='upper left')\n",
        "plt.show()"
      ],
      "execution_count": null,
      "outputs": [
        {
          "output_type": "display_data",
          "data": {
            "image/png": "[encoded data removed]",
            "text/plain": [
              "<Figure size 432x288 with 1 Axes>"
            ]
          },
          "metadata": {
            "tags": [],
            "needs_background": "light"
          }
        }
      ]
    },
    {
      "cell_type": "code",
      "metadata": {
        "id": "PvNa8usuU2Xt"
      },
      "source": [
        "y_pred_act, y_pred_binary = time_model.predict([X_test_new, X_test_delta])"
      ],
      "execution_count": null,
      "outputs": []
    },
    {
      "cell_type": "code",
      "metadata": {
        "id": "jHx9lP3BRkNz"
      },
      "source": [
        "# save model\n",
        "time_model.save('time_model_new.h5')"
      ],
      "execution_count": null,
      "outputs": []
    },
    {
      "cell_type": "code",
      "metadata": {
        "id": "OiW8Khh9VMzB"
      },
      "source": [
        "#load model\n",
        "time_model = tf.keras.models.load_model('/content/drive/MyDrive/Colab Notebooks/Thesis/time_model_new.h5', custom_objects= {'TLSTM_layer':TLSTM_layer})"
      ],
      "execution_count": null,
      "outputs": []
    },
    {
      "cell_type": "code",
      "metadata": {
        "id": "5yCRrrZBVhC4"
      },
      "source": [
        "#discriminative report\n",
        "sklearn.metrics.classification_report(y_test_label, y_pred_binary)"
      ],
      "execution_count": null,
      "outputs": []
    },
    {
      "cell_type": "code",
      "metadata": {
        "id": "NXTlbBioVyCF"
      },
      "source": [
        "# autoregressive report\n",
        "sklearn.metrics.classification_report(y_test_new, y_pred_act)"
      ],
      "execution_count": null,
      "outputs": []
    },
    {
      "cell_type": "code",
      "metadata": {
        "colab": {
          "base_uri": "https://localhost:8080/",
          "height": 299
        },
        "id": "8dyFDYJVWxn7",
        "outputId": "14a9f141-628a-4c5d-f693-a82c9d2ddeb8"
      },
      "source": [
        "#Plot probability of exit for one trajectory:\n",
        "def get_x_y(number):\n",
        "  one = []\n",
        "  for item in y_pred_act_TIME_SG[number]:\n",
        "    one.append(item[-1])\n",
        "\n",
        "  item = [np.argmax(y, axis=None, out=None) for y in X_test_new[number]]\n",
        "  item = np.ma.masked_equal(item, 0)\n",
        "  item = item.compressed()\n",
        "  lol = []\n",
        "  for e in item:\n",
        "    lol.append(e)\n",
        "  x = []\n",
        "  for i in range(len(lol)):\n",
        "    x.append(i)\n",
        "\n",
        "  y = one[-len(lol):]\n",
        "\n",
        "  return x, y\n",
        "x, y = get_x_y(14002)\n",
        "plt.plot(x, y, label = 'exit risk' )\n",
        "plt.title('Single task Time LSTM')\n",
        "plt.xlabel(\"timesteps\", size=14)\n",
        "plt.ylabel(\"risk\", size=14)\n",
        "plt.legend(loc=0)\n",
        "plt.show()"
      ],
      "execution_count": null,
      "outputs": [
        {
          "output_type": "display_data",
          "data": {
            "image/png": "[encoded data removed]",
            "text/plain": [
              "<Figure size 432x288 with 1 Axes>"
            ]
          },
          "metadata": {
            "tags": [],
            "needs_background": "light"
          }
        }
      ]
    },
    {
      "cell_type": "code",
      "metadata": {
        "colab": {
          "base_uri": "https://localhost:8080/"
        },
        "id": "7RDmRdUQcgKZ",
        "outputId": "7fd0dc43-78c8-43ba-91b6-f4ff3d82b31e"
      },
      "source": [
        "#Recall, F1-score, AUC ROC\n",
        "from sklearn.metrics import roc_auc_score\n",
        "print('-----------')\n",
        "print('AUC ROC')\n",
        "print('Specialized LSTM')\n",
        "print(roc_auc_score(y_test_label, y_pred_binary_SD))\n",
        "print('------------')\n",
        "print('Multi LSTM')\n",
        "print(roc_auc_score(y_test_label, y_pred_binary1))\n",
        "print('------------')\n",
        "print('Multi Time LSTM')\n",
        "print(roc_auc_score(y_test_label, y_pred_binary))"
      ],
      "execution_count": null,
      "outputs": [
        {
          "output_type": "stream",
          "text": [
            "-----------\n",
            "AUC ROC\n",
            "Specialized LSTM\n",
            "0.9671098072775819\n",
            "------------\n",
            "Multi LSTM\n",
            "0.9679503919487898\n",
            "------------\n",
            "Multi Time LSTM\n",
            "0.9643919898675246\n"
          ],
          "name": "stdout"
        }
      ]
    },
    {
      "cell_type": "code",
      "metadata": {
        "colab": {
          "base_uri": "https://localhost:8080/"
        },
        "id": "uURj9gdGnEmq",
        "outputId": "38192036-9072-460b-d5fb-2bcf4e8acfb5"
      },
      "source": [
        "#Perplexity\n",
        "from keras import backend as K\n",
        "def ppl_e(y_true, y_pred):\n",
        "    return K.exp(K.mean(K.categorical_crossentropy(y_true, y_pred)))\n",
        "print('-------------')\n",
        "print('Time LSTM')\n",
        "print(ppl_e(y_test_new,y_pred_act))\n",
        "print('-------------')\n",
        "print('Multi LSTM')\n",
        "print(ppl_e(y_test_new,y_pred_act1))\n",
        "print('--------------')\n",
        "print('Specialized LSTM')\n",
        "print(ppl_e(y_test_new,y_pred_act_SG))\n",
        "print('--------------')\n",
        "print('Specialized TIME LSTM')\n",
        "print(ppl_e(y_test_new,y_pred_act_TIME_SG))"
      ],
      "execution_count": null,
      "outputs": [
        {
          "output_type": "stream",
          "text": [
            "-------------\n",
            "Time LSTM\n",
            "tf.Tensor(1.1089919, shape=(), dtype=float32)\n",
            "-------------\n",
            "Multi LSTM\n",
            "tf.Tensor(1.1110604, shape=(), dtype=float32)\n",
            "--------------\n",
            "Specialized LSTM\n",
            "tf.Tensor(1.1075435, shape=(), dtype=float32)\n",
            "--------------\n",
            "Specialized TIME LSTM\n",
            "tf.Tensor(1.1062566, shape=(), dtype=float32)\n"
          ],
          "name": "stdout"
        }
      ]
    },
    {
      "cell_type": "code",
      "metadata": {
        "colab": {
          "base_uri": "https://localhost:8080/",
          "height": 317
        },
        "id": "NOcq8qEJtfWY",
        "outputId": "311cdb85-ac00-4998-c665-492860009dbd"
      },
      "source": [
        "#ROC CURVE MULTIPLR\n",
        "from sklearn import metrics\n",
        "plt.figure(0).clf()\n",
        "\n",
        "fpr, tpr, thresh = metrics.roc_curve(y_test_label, y_pred_binary_SD)\n",
        "auc = metrics.roc_auc_score(y_test_label, y_pred_binary_SD)\n",
        "plt.plot(fpr,tpr,label=\"LSTM_S, auc=\"+str(auc))\n",
        "\n",
        "fpr, tpr, thresh = metrics.roc_curve(y_test_label,y_pred_binary1)\n",
        "auc = metrics.roc_auc_score(y_test_label, y_pred_binary1)\n",
        "plt.plot(fpr,tpr,label=\"Multi-task LSTM, auc=\"+str(auc))\n",
        "\n",
        "fpr, tpr, thresh = metrics.roc_curve(y_test_label, y_pred_binary)\n",
        "auc = metrics.roc_auc_score(y_test_label, y_pred_binary)\n",
        "plt.plot(fpr,tpr,label=\"Multi_task T-LSTM, auc=\"+str(auc))\n",
        "plt.xlabel(\"FPR\", size=14)\n",
        "plt.ylabel(\"TPR\", size=14)\n",
        "plt.title(\"ROC curves\")\n",
        "plt.plot([0,1], [0,1], linestyle='--', label='No Skill, auc =0.5')\n",
        "plt.legend(loc=0)"
      ],
      "execution_count": null,
      "outputs": [
        {
          "output_type": "execute_result",
          "data": {
            "text/plain": [
              "<matplotlib.legend.Legend at 0x7ff71799ead0>"
            ]
          },
          "metadata": {
            "tags": []
          },
          "execution_count": 211
        },
        {
          "output_type": "display_data",
          "data": {
            "image/png": "[encoded data removed]",
            "text/plain": [
              "<Figure size 432x288 with 1 Axes>"
            ]
          },
          "metadata": {
            "tags": [],
            "needs_background": "light"
          }
        }
      ]
    },
    {
      "cell_type": "code",
      "metadata": {
        "id": "XTNSoZKBrbVN"
      },
      "source": [
        "#POst-Processsing\n",
        "#random choice\n",
        "\n",
        "def make_y_sequences(y_pred_act):\n",
        "  random_pred = []\n",
        "  real_pred = []\n",
        "  for i in range(len(y_pred_act)):\n",
        "    item = [np.argmax(y, axis=None, out=None) for y in y_test_new[i]]\n",
        "    item = np.ma.masked_equal(item, 0)\n",
        "    item = item.compressed()\n",
        "    real_pred.append(item)\n",
        "    l = len(item)\n",
        "    ns = []\n",
        "    for r in y_pred_act[i][-l:]:\n",
        "      wow =np.random.choice(r, p=r)\n",
        "      for i in range(len(r)):\n",
        "        if r[i] == wow:\n",
        "          ns.append(i)\n",
        "    random_pred.append(ns)\n",
        "  return random_pred, real_pred\n",
        "random_pred, real_pred = make_y_sequences(y_pred_act)\n",
        "random_pred1, real_pred = make_y_sequences(y_pred_act1)\n",
        "random_pred_SG, real_pred = make_y_sequences(y_pred_act_SG)\n",
        "random_pred_TIME_SG, real_pred = make_y_sequences(y_pred_act_TIME_SG)"
      ],
      "execution_count": null,
      "outputs": []
    },
    {
      "cell_type": "code",
      "metadata": {
        "id": "X5kUTNylpSA2"
      },
      "source": [
        "#DL distance from https://stackabuse.com/levenshtein-distance-and-text-similarity-in-python/\n",
        "import numpy as np\n",
        "\n",
        "def levenshtein(seq1, seq2):\n",
        "    size_x = len(seq1) + 1\n",
        "    size_y = len(seq2) + 1\n",
        "    matrix = np.zeros ((size_x, size_y))\n",
        "    for x in range(size_x):\n",
        "        matrix [x, 0] = x\n",
        "    for y in range(size_y):\n",
        "        matrix [0, y] = y\n",
        "\n",
        "    for x in range(1, size_x):\n",
        "        for y in range(1, size_y):\n",
        "            if seq1[x-1] == seq2[y-1]:\n",
        "                matrix [x,y] = min(\n",
        "                    matrix[x-1, y] + 1,\n",
        "                    matrix[x-1, y-1],\n",
        "                    matrix[x, y-1] + 1\n",
        "                )\n",
        "            else:\n",
        "                matrix [x,y] = min(\n",
        "                    matrix[x-1,y] + 1,\n",
        "                    matrix[x-1,y-1] + 1,\n",
        "                    matrix[x,y-1] + 1\n",
        "                )\n",
        "    return (matrix[size_x - 1, size_y - 1])"
      ],
      "execution_count": null,
      "outputs": []
    },
    {
      "cell_type": "code",
      "metadata": {
        "id": "K0HZwlgiGIUQ"
      },
      "source": [
        "#distance similarity array\n",
        "distances = []\n",
        "distances1 = []\n",
        "distances_SG = []\n",
        "distances_TIME_SG = []\n",
        "for ps, rs in zip(random_pred, real_pred):\n",
        "    distances.append(levenshtein(ps, rs))\n",
        "for ps, rs in zip(random_pred1, real_pred):\n",
        "    distances1.append(levenshtein(ps, rs))\n",
        "for ps, rs in zip(random_pred_SG, real_pred):\n",
        "    distances_SG.append(levenshtein(ps, rs))\n",
        "for ps, rs in zip(random_pred_TIME_SG, real_pred):\n",
        "    distances_TIME_SG.append(levenshtein(ps, rs))"
      ],
      "execution_count": null,
      "outputs": []
    },
    {
      "cell_type": "code",
      "metadata": {
        "colab": {
          "base_uri": "https://localhost:8080/"
        },
        "id": "Hyx0JkCErMY4",
        "outputId": "0cbf5060-0cff-4fb1-b19d-581a68baf729"
      },
      "source": [
        "# DL mean\n",
        "print('DL mean')\n",
        "print('---------')\n",
        "print('Multi-task TIME lstm')\n",
        "print(np.mean(distances))\n",
        "print('---------')\n",
        "print('Multi-task lstm')\n",
        "print(np.mean(distances1))\n",
        "print('---------')\n",
        "print('Single-task lstm')\n",
        "print(np.mean(distances_SG))\n",
        "print('---------')\n",
        "print('Single-task TIME lstm')\n",
        "print(np.mean(distances_TIME_SG))\n"
      ],
      "execution_count": null,
      "outputs": [
        {
          "output_type": "stream",
          "text": [
            "DL mean\n",
            "---------\n",
            "Multi-task TIME lstm\n",
            "6.782096313560713\n",
            "---------\n",
            "Multi-task lstm\n",
            "7.173095230279356\n",
            "---------\n",
            "Single-task lstm\n",
            "7.486951383645734\n",
            "---------\n",
            "Single-task TIME lstm\n",
            "7.025867445753866\n"
          ],
          "name": "stdout"
        }
      ]
    },
    {
      "cell_type": "code",
      "metadata": {
        "id": "HhwNO1nFDa1j"
      },
      "source": [
        "#---------------END OF CODE---------------------#"
      ],
      "execution_count": null,
      "outputs": []
    }
  ]
}